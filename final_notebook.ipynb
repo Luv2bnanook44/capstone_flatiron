{
 "cells": [
  {
   "cell_type": "markdown",
   "metadata": {},
   "source": [
    "# Predicting Adolescent Drug Use with Machine Learning"
   ]
  },
  {
   "cell_type": "code",
   "execution_count": null,
   "metadata": {},
   "outputs": [],
   "source": [
    "#### [Jamie Dowat](mailto:jamie_dowat44@yahoo.com)\n",
    "\n",
    "<div style=\"text-align:center\"><img src='img/stopdrugs.png'/></div>"
   ]
  },
  {
   "cell_type": "markdown",
   "metadata": {},
   "source": [
    "***********\n",
    "The drug problem in the United States is widespread and growing:\n",
    "\n",
    "> [Mortality rates](https://jamanetwork.com/journals/jama/article-abstract/2674665) from drug use disorders increased nationally and in every county between 1980 and 2014, but the relative increase varied from 8.2% to 8369.7%.\n",
    "\n",
    "************\n",
    "> No suprise, but more and more research is showing the level of damage drugs do to the brain. Check out this diagram from Amen Clinics:\n",
    "\n",
    "<div style=\"text-align:center\"><img src='img/amenbrain.png'/></div>\n",
    "\n",
    "************\n",
    "\n",
    "> [**Adolescents**](https://www.drugabuse.gov/news-events/news-releases/2021/03/younger-age-of-first-cann[…]ssociated-with-faster-development-of-substance-use-disorders) are especially vulnerable. After a year since first use of drugs:\n",
    "        * 11.2% of adolescents had prescription opioid use disorder versus 6.9% of young adults. \n",
    "        * 13.9% of adolescents had prescription stimulant use disorder versus 3.9% of young adults. \n",
    "        * 11.2% of adolescents had prescription tranquilizer use disorder versus 4.7% of young adults.\n",
    "        \n",
    "***********        \n",
    "\n",
    "> The author of the above study on adolescents noted: ***“This [study] underscores the importance of drug use prevention and screening for substance use or misuse among adolescents and young adults. Offering timely treatment and support to young people who need it must be a public health priority.”***\n",
    "\n",
    "***********\n",
    "\n",
    "## POTENTIAL STAKEHOLDER & DEPLOYMENT:\n",
    "\n",
    "In terms of real-life value, this model mirrors much of the work being done by the NIDA and SAMHSA. This model has potential to serve as a barometer for high schools, who can implement the survey anonymously and gain some high-level data about the state of their school and be able to more precisely analyze trends amongst their students and measure their prevention efforts against any changes seen in the model.\n",
    "\n",
    "## DATA: [Monitoring the Future](www.monitoringthefuture.org)\n",
    "\n",
    "<p float=\"right\">\n",
    "    <img src=\"img/nida.png\" width=\"100\" />\n",
    "    <img src=\"img/mtf.png\" width=\"100\" />\n",
    "    <img src=\"img/samhsa.png\" width=\"100\" />\n",
    "</p>\n",
    "\n",
    "\n",
    "Monitoring the Future began in 1975 as an attempt to collect and study drug use and feelings toward drug use amongst adolescents (8th-12th). This project specifically focuses on survey responses from 12th graders (since data for younger cohorts was not all open source), totaling to approximately 360,000 high school seniors across 133 schools nationwide.\n",
    "For more information about the design and implementation of the study, click [here](http://monitoringthefuture.org/purpose.html).\n",
    "About 6 different forms of the survey are distributed, each with slightly different questions.\n",
    "\n",
    "**Questions** in this dataset are limited to the following:\n",
    "* Demographic information\n",
    "* Drug Use Information\n",
    "\n",
    "To download the dataset used in this notebook, click [here](https://www.kaggle.com/jamiedowat/monitoring-the-future-12th-grade-drug-use-survey).\n",
    "\n",
    "## MODELING:\n",
    "\n",
    "The following models were implemented, along with [Boruta feature selection](https://towardsdatascience.com/boruta-explained-the-way-i-wish-someone-explained-it-to-me-4489d70e154a) and Bayesian Optimization.\n",
    "* Logistic Regression\n",
    "* Decision Trees\n",
    "* Random Forests\n",
    "* XGBoost\n",
    "\n",
    "The **final model** produced an accuracy of ___ and a recall of ___\n",
    "\n",
    "**Recall** was given extra attention as a metric, since false negatives (predicting no drug use when drug use is present) are predictions that would potentially cause the most harm.\n",
    "\n",
    "***********\n"
   ]
  },
  {
   "cell_type": "markdown",
   "metadata": {},
   "source": [
    "## Data Exploration"
   ]
  },
  {
   "cell_type": "code",
   "execution_count": 1,
   "metadata": {},
   "outputs": [],
   "source": [
    "import pandas as pd\n",
    "import numpy as np\n",
    "import matplotlib.pyplot as plt\n",
    "%matplotlib inline"
   ]
  },
  {
   "cell_type": "code",
   "execution_count": 2,
   "metadata": {},
   "outputs": [],
   "source": [
    "survey = pd.read_csv('data/modeling_data/mtf.csv')"
   ]
  },
  {
   "cell_type": "code",
   "execution_count": 3,
   "metadata": {},
   "outputs": [
    {
     "data": {
      "text/html": [
       "<div>\n",
       "<style scoped>\n",
       "    .dataframe tbody tr th:only-of-type {\n",
       "        vertical-align: middle;\n",
       "    }\n",
       "\n",
       "    .dataframe tbody tr th {\n",
       "        vertical-align: top;\n",
       "    }\n",
       "\n",
       "    .dataframe thead th {\n",
       "        text-align: right;\n",
       "    }\n",
       "</style>\n",
       "<table border=\"1\" class=\"dataframe\">\n",
       "  <thead>\n",
       "    <tr style=\"text-align: right;\">\n",
       "      <th></th>\n",
       "      <th>yr_adminst</th>\n",
       "      <th>sampling_weight</th>\n",
       "      <th>region</th>\n",
       "      <th>msa</th>\n",
       "      <th>smsa</th>\n",
       "      <th>siblings</th>\n",
       "      <th>evr_smoked_cig</th>\n",
       "      <th>cig_month_freq</th>\n",
       "      <th>evr_drink</th>\n",
       "      <th>alcohol_lifetime_freq</th>\n",
       "      <th>...</th>\n",
       "      <th>hgh_yr_freq</th>\n",
       "      <th>pwd_alc_yr_freq</th>\n",
       "      <th>hookah_month_freq</th>\n",
       "      <th>evr_vape</th>\n",
       "      <th>vape_marj_lifetime_freq</th>\n",
       "      <th>vape_marj_yr_freq</th>\n",
       "      <th>vape_marj_month_freq</th>\n",
       "      <th>vape_flav_lifetime_freq</th>\n",
       "      <th>vape_flav_yr_freq</th>\n",
       "      <th>vape_flav_month_freq</th>\n",
       "    </tr>\n",
       "  </thead>\n",
       "  <tbody>\n",
       "    <tr>\n",
       "      <th>0</th>\n",
       "      <td>1995</td>\n",
       "      <td>0.6</td>\n",
       "      <td>Midwest</td>\n",
       "      <td>1</td>\n",
       "      <td>1</td>\n",
       "      <td>1</td>\n",
       "      <td>Never</td>\n",
       "      <td>None</td>\n",
       "      <td>Unknown</td>\n",
       "      <td>0</td>\n",
       "      <td>...</td>\n",
       "      <td>Unknown</td>\n",
       "      <td>Unknown</td>\n",
       "      <td>Unknown</td>\n",
       "      <td>Unknown</td>\n",
       "      <td>Unknown</td>\n",
       "      <td>Unknown</td>\n",
       "      <td>Unknown</td>\n",
       "      <td>Unknown</td>\n",
       "      <td>Unknown</td>\n",
       "      <td>Unknown</td>\n",
       "    </tr>\n",
       "    <tr>\n",
       "      <th>1</th>\n",
       "      <td>1995</td>\n",
       "      <td>0.6</td>\n",
       "      <td>West</td>\n",
       "      <td>0</td>\n",
       "      <td>1</td>\n",
       "      <td>2</td>\n",
       "      <td>Regularly Now</td>\n",
       "      <td>2+ Packs</td>\n",
       "      <td>Unknown</td>\n",
       "      <td>40+</td>\n",
       "      <td>...</td>\n",
       "      <td>Unknown</td>\n",
       "      <td>Unknown</td>\n",
       "      <td>Unknown</td>\n",
       "      <td>Unknown</td>\n",
       "      <td>Unknown</td>\n",
       "      <td>Unknown</td>\n",
       "      <td>Unknown</td>\n",
       "      <td>Unknown</td>\n",
       "      <td>Unknown</td>\n",
       "      <td>Unknown</td>\n",
       "    </tr>\n",
       "    <tr>\n",
       "      <th>2</th>\n",
       "      <td>1995</td>\n",
       "      <td>0.9</td>\n",
       "      <td>Midwest</td>\n",
       "      <td>0</td>\n",
       "      <td>1</td>\n",
       "      <td>1</td>\n",
       "      <td>Regularly Now</td>\n",
       "      <td>2 Packs</td>\n",
       "      <td>Unknown</td>\n",
       "      <td>40+</td>\n",
       "      <td>...</td>\n",
       "      <td>Unknown</td>\n",
       "      <td>Unknown</td>\n",
       "      <td>Unknown</td>\n",
       "      <td>Unknown</td>\n",
       "      <td>Unknown</td>\n",
       "      <td>Unknown</td>\n",
       "      <td>Unknown</td>\n",
       "      <td>Unknown</td>\n",
       "      <td>Unknown</td>\n",
       "      <td>Unknown</td>\n",
       "    </tr>\n",
       "    <tr>\n",
       "      <th>3</th>\n",
       "      <td>1995</td>\n",
       "      <td>0.6</td>\n",
       "      <td>South</td>\n",
       "      <td>0</td>\n",
       "      <td>0</td>\n",
       "      <td>3+</td>\n",
       "      <td>Never</td>\n",
       "      <td>None</td>\n",
       "      <td>Unknown</td>\n",
       "      <td>0</td>\n",
       "      <td>...</td>\n",
       "      <td>Unknown</td>\n",
       "      <td>Unknown</td>\n",
       "      <td>Unknown</td>\n",
       "      <td>Unknown</td>\n",
       "      <td>Unknown</td>\n",
       "      <td>Unknown</td>\n",
       "      <td>Unknown</td>\n",
       "      <td>Unknown</td>\n",
       "      <td>Unknown</td>\n",
       "      <td>Unknown</td>\n",
       "    </tr>\n",
       "    <tr>\n",
       "      <th>4</th>\n",
       "      <td>1995</td>\n",
       "      <td>0.9</td>\n",
       "      <td>Midwest</td>\n",
       "      <td>1</td>\n",
       "      <td>1</td>\n",
       "      <td>None</td>\n",
       "      <td>Never</td>\n",
       "      <td>None</td>\n",
       "      <td>Unknown</td>\n",
       "      <td>0</td>\n",
       "      <td>...</td>\n",
       "      <td>Unknown</td>\n",
       "      <td>Unknown</td>\n",
       "      <td>Unknown</td>\n",
       "      <td>Unknown</td>\n",
       "      <td>Unknown</td>\n",
       "      <td>Unknown</td>\n",
       "      <td>Unknown</td>\n",
       "      <td>Unknown</td>\n",
       "      <td>Unknown</td>\n",
       "      <td>Unknown</td>\n",
       "    </tr>\n",
       "  </tbody>\n",
       "</table>\n",
       "<p>5 rows × 210 columns</p>\n",
       "</div>"
      ],
      "text/plain": [
       "   yr_adminst  sampling_weight   region  msa  smsa siblings evr_smoked_cig  \\\n",
       "0        1995              0.6  Midwest    1     1        1          Never   \n",
       "1        1995              0.6     West    0     1        2  Regularly Now   \n",
       "2        1995              0.9  Midwest    0     1        1  Regularly Now   \n",
       "3        1995              0.6    South    0     0       3+          Never   \n",
       "4        1995              0.9  Midwest    1     1     None          Never   \n",
       "\n",
       "  cig_month_freq evr_drink alcohol_lifetime_freq  ... hgh_yr_freq  \\\n",
       "0           None   Unknown                     0  ...     Unknown   \n",
       "1       2+ Packs   Unknown                   40+  ...     Unknown   \n",
       "2        2 Packs   Unknown                   40+  ...     Unknown   \n",
       "3           None   Unknown                     0  ...     Unknown   \n",
       "4           None   Unknown                     0  ...     Unknown   \n",
       "\n",
       "  pwd_alc_yr_freq hookah_month_freq evr_vape vape_marj_lifetime_freq  \\\n",
       "0         Unknown           Unknown  Unknown                 Unknown   \n",
       "1         Unknown           Unknown  Unknown                 Unknown   \n",
       "2         Unknown           Unknown  Unknown                 Unknown   \n",
       "3         Unknown           Unknown  Unknown                 Unknown   \n",
       "4         Unknown           Unknown  Unknown                 Unknown   \n",
       "\n",
       "  vape_marj_yr_freq vape_marj_month_freq vape_flav_lifetime_freq  \\\n",
       "0           Unknown              Unknown                 Unknown   \n",
       "1           Unknown              Unknown                 Unknown   \n",
       "2           Unknown              Unknown                 Unknown   \n",
       "3           Unknown              Unknown                 Unknown   \n",
       "4           Unknown              Unknown                 Unknown   \n",
       "\n",
       "  vape_flav_yr_freq vape_flav_month_freq  \n",
       "0           Unknown              Unknown  \n",
       "1           Unknown              Unknown  \n",
       "2           Unknown              Unknown  \n",
       "3           Unknown              Unknown  \n",
       "4           Unknown              Unknown  \n",
       "\n",
       "[5 rows x 210 columns]"
      ]
     },
     "execution_count": 3,
     "metadata": {},
     "output_type": "execute_result"
    }
   ],
   "source": [
    "survey.head()"
   ]
  },
  {
   "cell_type": "code",
   "execution_count": 3,
   "metadata": {},
   "outputs": [],
   "source": [
    "from src import eda"
   ]
  },
  {
   "cell_type": "code",
   "execution_count": 6,
   "metadata": {
    "scrolled": true
   },
   "outputs": [
    {
     "data": {
      "image/png": "[encoded data removed]",
      "text/plain": [
       "<Figure size 432x288 with 1 Axes>"
      ]
     },
     "metadata": {},
     "output_type": "display_data"
    }
   ],
   "source": [
    "eda.marijuana_use_by_year(survey)"
   ]
  },
  {
   "cell_type": "code",
   "execution_count": 4,
   "metadata": {},
   "outputs": [
    {
     "data": {
      "image/png": "[encoded data removed]",
      "text/plain": [
       "<Figure size 432x288 with 1 Axes>"
      ]
     },
     "metadata": {},
     "output_type": "display_data"
    }
   ],
   "source": [
    "eda.cigarette_use_by_year(survey)"
   ]
  },
  {
   "cell_type": "code",
   "execution_count": 5,
   "metadata": {},
   "outputs": [
    {
     "data": {
      "text/plain": [
       "Unknown         14482\n",
       "Occasionally        7\n",
       "1-2x                7\n",
       "Never               6\n",
       "Name: evr_smoked_cig, dtype: int64"
      ]
     },
     "execution_count": 5,
     "metadata": {},
     "output_type": "execute_result"
    }
   ],
   "source": [
    "survey[survey['yr_adminst']==2018]['evr_smoked_cig'].value_counts()"
   ]
  },
  {
   "cell_type": "code",
   "execution_count": 7,
   "metadata": {},
   "outputs": [
    {
     "data": {
      "image/png": "[encoded data removed]",
      "text/plain": [
       "<Figure size 432x288 with 1 Axes>"
      ]
     },
     "metadata": {},
     "output_type": "display_data"
    }
   ],
   "source": [
    "eda.other_drug_use_by_year(survey)"
   ]
  },
  {
   "cell_type": "code",
   "execution_count": 8,
   "metadata": {},
   "outputs": [
    {
     "data": {
      "image/png": "[encoded data removed]",
      "text/plain": [
       "<Figure size 720x432 with 1 Axes>"
      ]
     },
     "metadata": {},
     "output_type": "display_data"
    }
   ],
   "source": [
    "eda.drug_popularity(survey)"
   ]
  },
  {
   "cell_type": "markdown",
   "metadata": {},
   "source": [
    "## Modeling"
   ]
  },
  {
   "cell_type": "code",
   "execution_count": 2,
   "metadata": {
    "scrolled": true
   },
   "outputs": [],
   "source": [
    "data = pd.read_csv('data/modeling_data/mtf_with_target.csv')"
   ]
  },
  {
   "cell_type": "code",
   "execution_count": 4,
   "metadata": {},
   "outputs": [
    {
     "data": {
      "text/html": [
       "<div>\n",
       "<style scoped>\n",
       "    .dataframe tbody tr th:only-of-type {\n",
       "        vertical-align: middle;\n",
       "    }\n",
       "\n",
       "    .dataframe tbody tr th {\n",
       "        vertical-align: top;\n",
       "    }\n",
       "\n",
       "    .dataframe thead th {\n",
       "        text-align: right;\n",
       "    }\n",
       "</style>\n",
       "<table border=\"1\" class=\"dataframe\">\n",
       "  <thead>\n",
       "    <tr style=\"text-align: right;\">\n",
       "      <th></th>\n",
       "      <th>yr_adminst</th>\n",
       "      <th>sampling_weight</th>\n",
       "      <th>region</th>\n",
       "      <th>msa</th>\n",
       "      <th>smsa</th>\n",
       "      <th>evr_smoked_cig</th>\n",
       "      <th>cig_month_freq</th>\n",
       "      <th>alcohol_lifetime_freq</th>\n",
       "      <th>alcohol_yr_freq</th>\n",
       "      <th>alcohol_2weeks</th>\n",
       "      <th>...</th>\n",
       "      <th>work_hrs</th>\n",
       "      <th>work_pay</th>\n",
       "      <th>other_income</th>\n",
       "      <th>rec_time</th>\n",
       "      <th>date_freq</th>\n",
       "      <th>drive_freq</th>\n",
       "      <th>12mo_r_tcktd</th>\n",
       "      <th>12mo_accidents</th>\n",
       "      <th>num_drugs_yr</th>\n",
       "      <th>binary_drug</th>\n",
       "    </tr>\n",
       "  </thead>\n",
       "  <tbody>\n",
       "    <tr>\n",
       "      <th>0</th>\n",
       "      <td>1995</td>\n",
       "      <td>0.6</td>\n",
       "      <td>Midwest</td>\n",
       "      <td>1</td>\n",
       "      <td>1</td>\n",
       "      <td>Never</td>\n",
       "      <td>None</td>\n",
       "      <td>0</td>\n",
       "      <td>0</td>\n",
       "      <td>None</td>\n",
       "      <td>...</td>\n",
       "      <td>30+</td>\n",
       "      <td>126-175</td>\n",
       "      <td>0</td>\n",
       "      <td>4-5</td>\n",
       "      <td>2-3x Month</td>\n",
       "      <td>51-100</td>\n",
       "      <td>0</td>\n",
       "      <td>0</td>\n",
       "      <td>0</td>\n",
       "      <td>0</td>\n",
       "    </tr>\n",
       "    <tr>\n",
       "      <th>1</th>\n",
       "      <td>1995</td>\n",
       "      <td>0.6</td>\n",
       "      <td>West</td>\n",
       "      <td>0</td>\n",
       "      <td>1</td>\n",
       "      <td>Regularly Now</td>\n",
       "      <td>2+ Packs</td>\n",
       "      <td>40+</td>\n",
       "      <td>40+</td>\n",
       "      <td>10+X</td>\n",
       "      <td>...</td>\n",
       "      <td>5 or less</td>\n",
       "      <td>21-35</td>\n",
       "      <td>126-175</td>\n",
       "      <td>&lt;1</td>\n",
       "      <td>Never</td>\n",
       "      <td>1-10</td>\n",
       "      <td>0</td>\n",
       "      <td>0</td>\n",
       "      <td>9</td>\n",
       "      <td>1</td>\n",
       "    </tr>\n",
       "    <tr>\n",
       "      <th>2</th>\n",
       "      <td>1995</td>\n",
       "      <td>1.8</td>\n",
       "      <td>South</td>\n",
       "      <td>1</td>\n",
       "      <td>1</td>\n",
       "      <td>Never</td>\n",
       "      <td>None</td>\n",
       "      <td>3-5X</td>\n",
       "      <td>3-5X</td>\n",
       "      <td>None</td>\n",
       "      <td>...</td>\n",
       "      <td>11-15</td>\n",
       "      <td>51-75</td>\n",
       "      <td>6-10</td>\n",
       "      <td>2</td>\n",
       "      <td>1x Month</td>\n",
       "      <td>11-50</td>\n",
       "      <td>0</td>\n",
       "      <td>1</td>\n",
       "      <td>0</td>\n",
       "      <td>0</td>\n",
       "    </tr>\n",
       "    <tr>\n",
       "      <th>3</th>\n",
       "      <td>1995</td>\n",
       "      <td>0.9</td>\n",
       "      <td>South</td>\n",
       "      <td>0</td>\n",
       "      <td>1</td>\n",
       "      <td>1-2x</td>\n",
       "      <td>None</td>\n",
       "      <td>40+</td>\n",
       "      <td>6-9X</td>\n",
       "      <td>Once</td>\n",
       "      <td>...</td>\n",
       "      <td>0</td>\n",
       "      <td>0</td>\n",
       "      <td>0</td>\n",
       "      <td>2</td>\n",
       "      <td>2-3x Month</td>\n",
       "      <td>51-100</td>\n",
       "      <td>0</td>\n",
       "      <td>0</td>\n",
       "      <td>1</td>\n",
       "      <td>1</td>\n",
       "    </tr>\n",
       "    <tr>\n",
       "      <th>4</th>\n",
       "      <td>1995</td>\n",
       "      <td>0.9</td>\n",
       "      <td>NorthEast</td>\n",
       "      <td>0</td>\n",
       "      <td>1</td>\n",
       "      <td>Never</td>\n",
       "      <td>None</td>\n",
       "      <td>0</td>\n",
       "      <td>0</td>\n",
       "      <td>None</td>\n",
       "      <td>...</td>\n",
       "      <td>0</td>\n",
       "      <td>0</td>\n",
       "      <td>11-20</td>\n",
       "      <td>2</td>\n",
       "      <td>Never</td>\n",
       "      <td>51-100</td>\n",
       "      <td>0</td>\n",
       "      <td>1</td>\n",
       "      <td>0</td>\n",
       "      <td>0</td>\n",
       "    </tr>\n",
       "  </tbody>\n",
       "</table>\n",
       "<p>5 rows × 77 columns</p>\n",
       "</div>"
      ],
      "text/plain": [
       "   yr_adminst  sampling_weight     region  msa  smsa evr_smoked_cig  \\\n",
       "0        1995              0.6    Midwest    1     1          Never   \n",
       "1        1995              0.6       West    0     1  Regularly Now   \n",
       "2        1995              1.8      South    1     1          Never   \n",
       "3        1995              0.9      South    0     1           1-2x   \n",
       "4        1995              0.9  NorthEast    0     1          Never   \n",
       "\n",
       "  cig_month_freq alcohol_lifetime_freq alcohol_yr_freq alcohol_2weeks  ...  \\\n",
       "0           None                     0               0           None  ...   \n",
       "1       2+ Packs                   40+             40+           10+X  ...   \n",
       "2           None                  3-5X            3-5X           None  ...   \n",
       "3           None                   40+            6-9X           Once  ...   \n",
       "4           None                     0               0           None  ...   \n",
       "\n",
       "    work_hrs  work_pay other_income rec_time   date_freq drive_freq  \\\n",
       "0        30+   126-175            0      4-5  2-3x Month     51-100   \n",
       "1  5 or less     21-35      126-175       <1       Never       1-10   \n",
       "2      11-15     51-75         6-10        2    1x Month      11-50   \n",
       "3          0         0            0        2  2-3x Month     51-100   \n",
       "4          0         0        11-20        2       Never     51-100   \n",
       "\n",
       "  12mo_r_tcktd  12mo_accidents num_drugs_yr binary_drug  \n",
       "0            0               0            0           0  \n",
       "1            0               0            9           1  \n",
       "2            0               1            0           0  \n",
       "3            0               0            1           1  \n",
       "4            0               1            0           0  \n",
       "\n",
       "[5 rows x 77 columns]"
      ]
     },
     "execution_count": 4,
     "metadata": {},
     "output_type": "execute_result"
    }
   ],
   "source": [
    "data.head()"
   ]
  },
  {
   "cell_type": "code",
   "execution_count": 11,
   "metadata": {
    "scrolled": false
   },
   "outputs": [
    {
     "data": {
      "image/png": "[encoded data removed]",
      "text/plain": [
       "<Figure size 432x288 with 1 Axes>"
      ]
     },
     "metadata": {},
     "output_type": "display_data"
    }
   ],
   "source": [
    "eda.number_of_drugs_used_past_year(data)"
   ]
  },
  {
   "cell_type": "code",
   "execution_count": 12,
   "metadata": {},
   "outputs": [
    {
     "data": {
      "image/png": "[encoded data removed]",
      "text/plain": [
       "<Figure size 432x288 with 1 Axes>"
      ]
     },
     "metadata": {},
     "output_type": "display_data"
    }
   ],
   "source": [
    "eda.class_distribution(data)"
   ]
  },
  {
   "cell_type": "code",
   "execution_count": 3,
   "metadata": {},
   "outputs": [],
   "source": [
    "from src.modeling import drug_cols\n",
    "data.drop(drug_cols, axis=1, inplace=True)"
   ]
  },
  {
   "cell_type": "code",
   "execution_count": 4,
   "metadata": {},
   "outputs": [],
   "source": [
    "X = data.drop('binary_drug', axis=1)\n",
    "y = data.binary_drug"
   ]
  },
  {
   "cell_type": "code",
   "execution_count": 5,
   "metadata": {},
   "outputs": [],
   "source": [
    "from sklearn.model_selection import train_test_split"
   ]
  },
  {
   "cell_type": "code",
   "execution_count": 32,
   "metadata": {},
   "outputs": [],
   "source": [
    "X_train, X_test, y_train, y_test = train_test_split(X, y, test_size=0.2)"
   ]
  },
  {
   "cell_type": "markdown",
   "metadata": {},
   "source": [
    "For plotting confusion matrices:"
   ]
  },
  {
   "cell_type": "code",
   "execution_count": 45,
   "metadata": {},
   "outputs": [],
   "source": [
    "X_tr_pp = pd.read_csv('data/modeling_data/X_tr_pp.csv')\n",
    "y_tr_pp = pd.read_csv('data/modeling_data/y_tr_pp.csv')"
   ]
  },
  {
   "cell_type": "code",
   "execution_count": 7,
   "metadata": {},
   "outputs": [],
   "source": [
    "from sklearn.linear_model import LogisticRegression\n",
    "from sklearn.tree import DecisionTreeClassifier\n",
    "from sklearn.ensemble import RandomForestClassifier"
   ]
  },
  {
   "cell_type": "code",
   "execution_count": 8,
   "metadata": {},
   "outputs": [],
   "source": [
    "from src.modeling import ModelHistory"
   ]
  },
  {
   "cell_type": "code",
   "execution_count": 9,
   "metadata": {},
   "outputs": [],
   "source": [
    "history = ModelHistory(X_train, y_train, X_test, y_test)"
   ]
  },
  {
   "cell_type": "markdown",
   "metadata": {},
   "source": [
    "***********\n",
    "### First Simple Model"
   ]
  },
  {
   "cell_type": "code",
   "execution_count": 26,
   "metadata": {},
   "outputs": [],
   "source": [
    "fsm_lr = LogisticRegression(max_iter=10000, C=0.1)"
   ]
  },
  {
   "cell_type": "code",
   "execution_count": 27,
   "metadata": {},
   "outputs": [],
   "source": [
    "val_recall, val_prec, val_acc, roc_auc, lr1 = history.kfold_validation(fsm_lr, 'LogReg 1 AllFeatures', ['sampling_weight'], X_train.drop('sampling_weight', axis=1).columns)\n"
   ]
  },
  {
   "cell_type": "code",
   "execution_count": null,
   "metadata": {},
   "outputs": [],
   "source": [
    "from sklearn.metrics import plot_confusion_matrix"
   ]
  },
  {
   "cell_type": "code",
   "execution_count": null,
   "metadata": {},
   "outputs": [],
   "source": [
    "plot_confusion_matrix(lr1, X_tr_pp, y_tr_pp)"
   ]
  },
  {
   "cell_type": "code",
   "execution_count": 31,
   "metadata": {},
   "outputs": [],
   "source": [
    "fsm_dt = DecisionTreeClassifier()"
   ]
  },
  {
   "cell_type": "code",
   "execution_count": 32,
   "metadata": {},
   "outputs": [],
   "source": [
    "val_recall, val_prec, val_acc, roc_auc, dt1 = history.kfold_validation(fsm_dt, 'DecTree 1 AllFeatures', ['sampling_weight'], X_train.drop('sampling_weight', axis=1).columns)"
   ]
  },
  {
   "cell_type": "code",
   "execution_count": null,
   "metadata": {},
   "outputs": [],
   "source": [
    "plot_confusion_matrix(dt1, X_tr_pp, y_tr_pp)"
   ]
  },
  {
   "cell_type": "code",
   "execution_count": 36,
   "metadata": {},
   "outputs": [],
   "source": [
    "fsm_rf = RandomForestClassifier()"
   ]
  },
  {
   "cell_type": "code",
   "execution_count": 37,
   "metadata": {},
   "outputs": [],
   "source": [
    "val_recall, val_prec, val_acc, roc_auc, rf1 = history.kfold_validation(fsm_rf, 'RandFor 1 AllFeatures', ['sampling_weight'], X_train.drop('sampling_weight', axis=1).columns)"
   ]
  },
  {
   "cell_type": "code",
   "execution_count": null,
   "metadata": {},
   "outputs": [],
   "source": [
    "plot_confusion_matrix(rf1, X_tr_pp, y_tr_pp)"
   ]
  },
  {
   "cell_type": "markdown",
   "metadata": {},
   "source": [
    "***********\n",
    "### GridSearch"
   ]
  },
  {
   "cell_type": "code",
   "execution_count": 11,
   "metadata": {},
   "outputs": [],
   "source": [
    "from sklearn.model_selection import GridSearchCV"
   ]
  },
  {
   "cell_type": "markdown",
   "metadata": {},
   "source": [
    "##### Logistic Regression"
   ]
  },
  {
   "cell_type": "code",
   "execution_count": 12,
   "metadata": {},
   "outputs": [],
   "source": [
    "lr = LogisticRegression(max_iter=10000, C=0.1)"
   ]
  },
  {
   "cell_type": "code",
   "execution_count": 13,
   "metadata": {},
   "outputs": [],
   "source": [
    "grid = {'penalty': ['l1', 'l2', 'elasticnet'],\n",
    "       'tol': [0.0001, 0.00005, 0.00001],\n",
    "       'class_weight': [{0:0.7, 1:1}, None]}"
   ]
  },
  {
   "cell_type": "code",
   "execution_count": 14,
   "metadata": {},
   "outputs": [],
   "source": [
    "lrgs = GridSearchCV(lr, grid)"
   ]
  },
  {
   "cell_type": "code",
   "execution_count": 15,
   "metadata": {},
   "outputs": [],
   "source": [
    "val_recall, val_prec, val_acc, roc_auc, lr2 = history.kfold_validation(lrgs, 'LogReg 2 AllFeatures', ['sampling_weight'], X_train.drop('sampling_weight', axis=1).columns)\n"
   ]
  },
  {
   "cell_type": "code",
   "execution_count": 23,
   "metadata": {},
   "outputs": [
    {
     "data": {
      "text/plain": [
       "{'class_weight': None, 'penalty': 'l2', 'tol': 0.0001}"
      ]
     },
     "execution_count": 23,
     "metadata": {},
     "output_type": "execute_result"
    }
   ],
   "source": [
    "lr2.best_params_"
   ]
  },
  {
   "cell_type": "markdown",
   "metadata": {},
   "source": [
    "##### Decision Tree"
   ]
  },
  {
   "cell_type": "code",
   "execution_count": 16,
   "metadata": {},
   "outputs": [],
   "source": [
    "dt = DecisionTreeClassifier()"
   ]
  },
  {
   "cell_type": "code",
   "execution_count": 17,
   "metadata": {},
   "outputs": [],
   "source": [
    "grid = {'criterion': ['gini', 'entropy'],\n",
    "       'max_depth': [5,15,30],\n",
    "       'min_samples_leaf': [1, 20, 40]}"
   ]
  },
  {
   "cell_type": "code",
   "execution_count": 18,
   "metadata": {},
   "outputs": [],
   "source": [
    "dtgs = GridSearchCV(dt, grid)"
   ]
  },
  {
   "cell_type": "code",
   "execution_count": 19,
   "metadata": {},
   "outputs": [],
   "source": [
    "val_recall, val_prec, val_acc, roc_auc, dt2 = history.kfold_validation(dtgs, 'DecTree 2 AllFeatures', ['sampling_weight'], X_train.drop('sampling_weight', axis=1).columns)"
   ]
  },
  {
   "cell_type": "code",
   "execution_count": 22,
   "metadata": {},
   "outputs": [
    {
     "data": {
      "text/plain": [
       "{'criterion': 'gini', 'max_depth': 15, 'min_samples_leaf': 40}"
      ]
     },
     "execution_count": 22,
     "metadata": {},
     "output_type": "execute_result"
    }
   ],
   "source": [
    "dt2.best_params_"
   ]
  },
  {
   "cell_type": "markdown",
   "metadata": {},
   "source": [
    "##### Random Forest"
   ]
  },
  {
   "cell_type": "code",
   "execution_count": 31,
   "metadata": {},
   "outputs": [],
   "source": [
    "rf = RandomForestClassifier()"
   ]
  },
  {
   "cell_type": "code",
   "execution_count": null,
   "metadata": {},
   "outputs": [],
   "source": [
    "grid = {'n_estimators': [40,100],\n",
    "       'max_depth': [5,20,None],\n",
    "       'min_samples_leaf': [1, 20], \n",
    "       'bootstrap': [True, False]}"
   ]
  },
  {
   "cell_type": "code",
   "execution_count": null,
   "metadata": {},
   "outputs": [],
   "source": [
    "rfgs = GridSearchCV(dt, grid)"
   ]
  },
  {
   "cell_type": "code",
   "execution_count": 37,
   "metadata": {},
   "outputs": [],
   "source": [
    "val_recall, val_prec, val_acc, roc_auc, rf2 = history.kfold_validation(rfgs, 'RandFor 2 AllFeatures', ['sampling_weight'], X_train.drop('sampling_weight', axis=1).columns)\n",
    "\n"
   ]
  },
  {
   "cell_type": "code",
   "execution_count": 81,
   "metadata": {},
   "outputs": [
    {
     "name": "stdout",
     "output_type": "stream",
     "text": [
      "{'bootstrap': False, 'max_depth': 20, 'min_samples_leaf': 1, 'n_estimators': 100}\n"
     ]
    }
   ],
   "source": [
    "rf2.best_params_"
   ]
  },
  {
   "cell_type": "code",
   "execution_count": 20,
   "metadata": {},
   "outputs": [
    {
     "data": {
      "text/plain": [
       "{'LogReg 2 AllFeatures': {'recall': [0.7064766839378238,\n",
       "   0.7137305699481865,\n",
       "   0.7085492227979274,\n",
       "   0.7,\n",
       "   0.7202072538860104,\n",
       "   0.7048458149779736,\n",
       "   0.7126198497019953,\n",
       "   0.7141746566467997,\n",
       "   0.7030318735423685,\n",
       "   0.7087328323399844],\n",
       "  'precision': [0.7577104751319811,\n",
       "   0.7623132263420033,\n",
       "   0.7569886520896761,\n",
       "   0.7507641011392053,\n",
       "   0.7477138246369016,\n",
       "   0.7557654904140039,\n",
       "   0.7655902004454342,\n",
       "   0.7436589314624933,\n",
       "   0.746765758326452,\n",
       "   0.7495204165524801],\n",
       "  'accuracy': [0.8027157335432451,\n",
       "   0.8067499754009643,\n",
       "   0.8029125258289875,\n",
       "   0.7977959263996851,\n",
       "   0.8014365836859195,\n",
       "   0.8014365836859195,\n",
       "   0.8080291252582898,\n",
       "   0.7979927186854275,\n",
       "   0.7966935642590042,\n",
       "   0.7994489273765006],\n",
       "  'roc_auc': [0.7840649324813662,\n",
       "   0.788723130444504,\n",
       "   0.7846252380846689,\n",
       "   0.7788434079009995,\n",
       "   0.7856946153612187,\n",
       "   0.7827052678950782,\n",
       "   0.7895269299271398,\n",
       "   0.7817383435518263,\n",
       "   0.7785348166696453,\n",
       "   0.7818612598952024]},\n",
       " 'DecTree 2 AllFeatures': {'recall': [0.6681347150259067,\n",
       "   0.672538860103627,\n",
       "   0.6808290155440414,\n",
       "   0.6735751295336787,\n",
       "   0.6782383419689119,\n",
       "   0.6833376522415133,\n",
       "   0.6856698626587199,\n",
       "   0.6934438973827416,\n",
       "   0.6732314071002851,\n",
       "   0.6766001554806945],\n",
       "  'precision': [0.7195870535714286,\n",
       "   0.7179203539823009,\n",
       "   0.7184253690541279,\n",
       "   0.7164508128961147,\n",
       "   0.7129629629629629,\n",
       "   0.7185286103542234,\n",
       "   0.735,\n",
       "   0.7156993848622626,\n",
       "   0.7151114781172585,\n",
       "   0.722268326417704],\n",
       "  'accuracy': [0.7750664173964381,\n",
       "   0.7752632096821804,\n",
       "   0.7774279248253468,\n",
       "   0.7747712289678245,\n",
       "   0.7740824559677261,\n",
       "   0.7781166978254452,\n",
       "   0.7867755583981108,\n",
       "   0.7790022631112861,\n",
       "   0.7740602243652824,\n",
       "   0.778390080692777],\n",
       "  'roc_auc': [0.7543434165324678,\n",
       "   0.7553555795044551,\n",
       "   0.7587073841800804,\n",
       "   0.7551597684793572,\n",
       "   0.7555081920855189,\n",
       "   0.7597367195217719,\n",
       "   0.7671686876745376,\n",
       "   0.7624104004680206,\n",
       "   0.7545119434359111,\n",
       "   0.75865546406432]}}"
      ]
     },
     "execution_count": 20,
     "metadata": {},
     "output_type": "execute_result"
    }
   ],
   "source": [
    "history.history"
   ]
  },
  {
   "cell_type": "markdown",
   "metadata": {},
   "source": [
    "***********\n",
    "### Feature Selection: Boruta & Phi-K"
   ]
  },
  {
   "cell_type": "code",
   "execution_count": 25,
   "metadata": {},
   "outputs": [],
   "source": [
    "# !pip install boruta"
   ]
  },
  {
   "cell_type": "code",
   "execution_count": 26,
   "metadata": {},
   "outputs": [],
   "source": [
    "from boruta import BorutaPy"
   ]
  },
  {
   "cell_type": "code",
   "execution_count": 46,
   "metadata": {},
   "outputs": [],
   "source": [
    "lr_b = LogisticRegression(max_iter=10000, C=0.1)\n",
    "dt_b = DecisionTreeClassifier(criterion='gini', max_depth=15, min_samples_leaf=40)\n",
    "rf_b = RandomForestClassifier(bootstrap=False, max_depth=20, min_samples_leaf=1)"
   ]
  },
  {
   "cell_type": "markdown",
   "metadata": {},
   "source": [
    "**Phi-K** is a package that adapts Pearson's Correlation Coefficient to be able to accomodate not only categorical variables, but variables of mixed types. For the documentation, click [here](https://phik.readthedocs.io/en/latest/tutorials.html). "
   ]
  },
  {
   "cell_type": "code",
   "execution_count": 86,
   "metadata": {},
   "outputs": [],
   "source": [
    "import phik\n",
    "from src.eda import best_correlations"
   ]
  },
  {
   "cell_type": "markdown",
   "metadata": {},
   "source": [
    "We're going to start by examining the correlations amongst all the variables (including the target, `binary_drug`). The Phi-K coefficient, also denoted **Φ**, aims to correct incorrect \"asymptotic\" assumptions of statistical significance seen in the X-squared contingency test, and is also able to capture non-linear relationships."
   ]
  },
  {
   "cell_type": "code",
   "execution_count": null,
   "metadata": {},
   "outputs": [],
   "source": [
    "corr_matrix = data.drop('sampling_weight', axis=1).phik_matrix(interval_cols=['yr_adminst'])"
   ]
  },
  {
   "cell_type": "code",
   "execution_count": 95,
   "metadata": {},
   "outputs": [
    {
     "data": {
      "text/html": [
       "<div>\n",
       "<style scoped>\n",
       "    .dataframe tbody tr th:only-of-type {\n",
       "        vertical-align: middle;\n",
       "    }\n",
       "\n",
       "    .dataframe tbody tr th {\n",
       "        vertical-align: top;\n",
       "    }\n",
       "\n",
       "    .dataframe thead th {\n",
       "        text-align: right;\n",
       "    }\n",
       "</style>\n",
       "<table border=\"1\" class=\"dataframe\">\n",
       "  <thead>\n",
       "    <tr style=\"text-align: right;\">\n",
       "      <th></th>\n",
       "      <th>cc</th>\n",
       "    </tr>\n",
       "    <tr>\n",
       "      <th>pairs</th>\n",
       "      <th></th>\n",
       "    </tr>\n",
       "  </thead>\n",
       "  <tbody>\n",
       "    <tr>\n",
       "      <th>(alcohol_yr_freq, alcohol_lifetime_freq)</th>\n",
       "      <td>0.915190</td>\n",
       "    </tr>\n",
       "    <tr>\n",
       "      <th>(academic_self_rating, intelligence_self_rating)</th>\n",
       "      <td>0.879218</td>\n",
       "    </tr>\n",
       "    <tr>\n",
       "      <th>(tech_school_after_hs, desire_tech_school)</th>\n",
       "      <td>0.853378</td>\n",
       "    </tr>\n",
       "    <tr>\n",
       "      <th>(desire_2yrcoll, 2yrcoll_after_hs)</th>\n",
       "      <td>0.851864</td>\n",
       "    </tr>\n",
       "    <tr>\n",
       "      <th>(military_after_hs, desire_military)</th>\n",
       "      <td>0.848997</td>\n",
       "    </tr>\n",
       "    <tr>\n",
       "      <th>...</th>\n",
       "      <td>...</td>\n",
       "    </tr>\n",
       "    <tr>\n",
       "      <th>(12mo_accidents, msa)</th>\n",
       "      <td>0.006328</td>\n",
       "    </tr>\n",
       "    <tr>\n",
       "      <th>(12mo_accidents, desire_tech_school)</th>\n",
       "      <td>0.005292</td>\n",
       "    </tr>\n",
       "    <tr>\n",
       "      <th>(12mo_r_tcktd, mother_employed)</th>\n",
       "      <td>0.004943</td>\n",
       "    </tr>\n",
       "    <tr>\n",
       "      <th>(smsa, 12mo_accidents)</th>\n",
       "      <td>0.003534</td>\n",
       "    </tr>\n",
       "    <tr>\n",
       "      <th>(sex, msa)</th>\n",
       "      <td>0.000000</td>\n",
       "    </tr>\n",
       "  </tbody>\n",
       "</table>\n",
       "<p>1128 rows × 1 columns</p>\n",
       "</div>"
      ],
      "text/plain": [
       "                                                        cc\n",
       "pairs                                                     \n",
       "(alcohol_yr_freq, alcohol_lifetime_freq)          0.915190\n",
       "(academic_self_rating, intelligence_self_rating)  0.879218\n",
       "(tech_school_after_hs, desire_tech_school)        0.853378\n",
       "(desire_2yrcoll, 2yrcoll_after_hs)                0.851864\n",
       "(military_after_hs, desire_military)              0.848997\n",
       "...                                                    ...\n",
       "(12mo_accidents, msa)                             0.006328\n",
       "(12mo_accidents, desire_tech_school)              0.005292\n",
       "(12mo_r_tcktd, mother_employed)                   0.004943\n",
       "(smsa, 12mo_accidents)                            0.003534\n",
       "(sex, msa)                                        0.000000\n",
       "\n",
       "[1128 rows x 1 columns]"
      ]
     },
     "execution_count": 95,
     "metadata": {},
     "output_type": "execute_result"
    }
   ],
   "source": [
    "best_correlations(corr_matrix)[1:]"
   ]
  },
  {
   "cell_type": "markdown",
   "metadata": {},
   "source": [
    "To validate these coefficient values, we'll use the `phik` method, `significance_matrix()`, to look for features with the highest significance:"
   ]
  },
  {
   "cell_type": "code",
   "execution_count": 85,
   "metadata": {},
   "outputs": [],
   "source": [
    "signif_matrix = data.drop('sampling_weight', axis=1).significance_matrix(interval_cols=['yr_adminst'])"
   ]
  },
  {
   "cell_type": "code",
   "execution_count": 96,
   "metadata": {},
   "outputs": [
    {
     "data": {
      "text/html": [
       "<div>\n",
       "<style scoped>\n",
       "    .dataframe tbody tr th:only-of-type {\n",
       "        vertical-align: middle;\n",
       "    }\n",
       "\n",
       "    .dataframe tbody tr th {\n",
       "        vertical-align: top;\n",
       "    }\n",
       "\n",
       "    .dataframe thead th {\n",
       "        text-align: right;\n",
       "    }\n",
       "</style>\n",
       "<table border=\"1\" class=\"dataframe\">\n",
       "  <thead>\n",
       "    <tr style=\"text-align: right;\">\n",
       "      <th></th>\n",
       "      <th>cc</th>\n",
       "    </tr>\n",
       "    <tr>\n",
       "      <th>pairs</th>\n",
       "      <th></th>\n",
       "    </tr>\n",
       "  </thead>\n",
       "  <tbody>\n",
       "    <tr>\n",
       "      <th>(tech_school_after_hs, desire_tech_school)</th>\n",
       "      <td>205.246271</td>\n",
       "    </tr>\n",
       "    <tr>\n",
       "      <th>(alcohol_yr_freq, evr_smoked_cig)</th>\n",
       "      <td>204.328780</td>\n",
       "    </tr>\n",
       "    <tr>\n",
       "      <th>(binary_drug, alcohol_yr_freq)</th>\n",
       "      <td>202.543497</td>\n",
       "    </tr>\n",
       "    <tr>\n",
       "      <th>(alcohol_lifetime_freq, binary_drug)</th>\n",
       "      <td>201.641182</td>\n",
       "    </tr>\n",
       "    <tr>\n",
       "      <th>(2yrcoll_after_hs, tech_school_after_hs)</th>\n",
       "      <td>201.490563</td>\n",
       "    </tr>\n",
       "    <tr>\n",
       "      <th>(2yrcoll_after_hs, 4yrcoll_after_hs)</th>\n",
       "      <td>197.309530</td>\n",
       "    </tr>\n",
       "    <tr>\n",
       "      <th>(military_after_hs, desire_military)</th>\n",
       "      <td>195.092427</td>\n",
       "    </tr>\n",
       "    <tr>\n",
       "      <th>(binary_drug, evr_smoked_cig)</th>\n",
       "      <td>180.669635</td>\n",
       "    </tr>\n",
       "    <tr>\n",
       "      <th>(desire_4yrcoll, 4yrcoll_after_hs)</th>\n",
       "      <td>178.474915</td>\n",
       "    </tr>\n",
       "    <tr>\n",
       "      <th>(cig_month_freq, alcohol_lifetime_freq)</th>\n",
       "      <td>170.764672</td>\n",
       "    </tr>\n",
       "    <tr>\n",
       "      <th>(area_type, smsa)</th>\n",
       "      <td>169.659827</td>\n",
       "    </tr>\n",
       "    <tr>\n",
       "      <th>(tech_school_after_hs, 4yrcoll_after_hs)</th>\n",
       "      <td>168.859587</td>\n",
       "    </tr>\n",
       "    <tr>\n",
       "      <th>(intelligence_self_rating, avg_grade)</th>\n",
       "      <td>168.720355</td>\n",
       "    </tr>\n",
       "    <tr>\n",
       "      <th>(school_missed_ditched, skipped_class)</th>\n",
       "      <td>166.408879</td>\n",
       "    </tr>\n",
       "    <tr>\n",
       "      <th>(cig_month_freq, alcohol_yr_freq)</th>\n",
       "      <td>165.566271</td>\n",
       "    </tr>\n",
       "    <tr>\n",
       "      <th>(smsa, msa)</th>\n",
       "      <td>158.770597</td>\n",
       "    </tr>\n",
       "    <tr>\n",
       "      <th>(cig_month_freq, binary_drug)</th>\n",
       "      <td>152.002730</td>\n",
       "    </tr>\n",
       "    <tr>\n",
       "      <th>(evr_smoked_cig, alcohol_2weeks)</th>\n",
       "      <td>150.490580</td>\n",
       "    </tr>\n",
       "    <tr>\n",
       "      <th>(alcohol_2weeks, binary_drug)</th>\n",
       "      <td>149.931332</td>\n",
       "    </tr>\n",
       "  </tbody>\n",
       "</table>\n",
       "</div>"
      ],
      "text/plain": [
       "                                                    cc\n",
       "pairs                                                 \n",
       "(tech_school_after_hs, desire_tech_school)  205.246271\n",
       "(alcohol_yr_freq, evr_smoked_cig)           204.328780\n",
       "(binary_drug, alcohol_yr_freq)              202.543497\n",
       "(alcohol_lifetime_freq, binary_drug)        201.641182\n",
       "(2yrcoll_after_hs, tech_school_after_hs)    201.490563\n",
       "(2yrcoll_after_hs, 4yrcoll_after_hs)        197.309530\n",
       "(military_after_hs, desire_military)        195.092427\n",
       "(binary_drug, evr_smoked_cig)               180.669635\n",
       "(desire_4yrcoll, 4yrcoll_after_hs)          178.474915\n",
       "(cig_month_freq, alcohol_lifetime_freq)     170.764672\n",
       "(area_type, smsa)                           169.659827\n",
       "(tech_school_after_hs, 4yrcoll_after_hs)    168.859587\n",
       "(intelligence_self_rating, avg_grade)       168.720355\n",
       "(school_missed_ditched, skipped_class)      166.408879\n",
       "(cig_month_freq, alcohol_yr_freq)           165.566271\n",
       "(smsa, msa)                                 158.770597\n",
       "(cig_month_freq, binary_drug)               152.002730\n",
       "(evr_smoked_cig, alcohol_2weeks)            150.490580\n",
       "(alcohol_2weeks, binary_drug)               149.931332"
      ]
     },
     "execution_count": 96,
     "metadata": {},
     "output_type": "execute_result"
    }
   ],
   "source": [
    "best_correlations(signif_matrix).iloc[61:80]"
   ]
  },
  {
   "cell_type": "markdown",
   "metadata": {},
   "source": [
    "`BorutaPy` is a wrapper for the RandomForest algorithm, that attaches a \"randomized\" duplicate dataset to the original and ranks the original features. For a great article explaining the process, click [here](https://towardsdatascience.com/boruta-explained-the-way-i-wish-someone-explained-it-to-me-4489d70e154a)"
   ]
  },
  {
   "cell_type": "code",
   "execution_count": 55,
   "metadata": {},
   "outputs": [],
   "source": [
    "boruta = BorutaPy(\n",
    "                 estimator = rf_b,\n",
    "                n_estimators = 'auto',\n",
    "                 max_iter = 25, \n",
    "                perc = 80\n",
    "                 )"
   ]
  },
  {
   "cell_type": "code",
   "execution_count": 56,
   "metadata": {},
   "outputs": [
    {
     "data": {
      "text/plain": [
       "BorutaPy(estimator=RandomForestClassifier(bootstrap=False, max_depth=20,\n",
       "                                          n_estimators=30,\n",
       "                                          random_state=RandomState(MT19937) at 0x7FCE85894440),\n",
       "         max_iter=20, n_estimators='auto',\n",
       "         random_state=RandomState(MT19937) at 0x7FCE85894440)"
      ]
     },
     "execution_count": 56,
     "metadata": {},
     "output_type": "execute_result"
    }
   ],
   "source": [
    "boruta.fit(np.array(X_tr_pp), np.array(y_tr_pp))"
   ]
  },
  {
   "cell_type": "markdown",
   "metadata": {},
   "source": [
    "Features in the \"green area\" are have passed the "
   ]
  },
  {
   "cell_type": "code",
   "execution_count": 58,
   "metadata": {},
   "outputs": [],
   "source": [
    "green_area = X_tr_pp.columns[boruta.support_]\n",
    "blue_area = X_tr_pp.columns[boruta.support_weak_]"
   ]
  },
  {
   "cell_type": "code",
   "execution_count": 79,
   "metadata": {},
   "outputs": [],
   "source": [
    "labeled_cols = []\n",
    "cols = X_train.drop('sampling_weight', axis=1).columns\n",
    "for i in range(len(X_tr_pp.columns)-1):\n",
    "    ind = X_tr_pp.columns[i].split('_')[0]\n",
    "    col = X_tr_pp.columns[i]\n",
    "    \n",
    "    if ind == X_tr_pp.columns[i].split('_')[0]:\n",
    "        labeled_cols.append(cols[int(ind[1:])])"
   ]
  },
  {
   "cell_type": "code",
   "execution_count": 80,
   "metadata": {},
   "outputs": [
    {
     "data": {
      "text/plain": [
       "[('x4_Never', 1, 'evr_smoked_cig'),\n",
       " ('x5_None', 2, 'cig_month_freq'),\n",
       " ('x7_0', 2, 'alcohol_yr_freq'),\n",
       " ('x8_None', 3, 'alcohol_2weeks'),\n",
       " ('x6_40+', 4, 'alcohol_lifetime_freq'),\n",
       " ('x6_0', 5, 'alcohol_lifetime_freq'),\n",
       " ('x4_Regularly Now', 6, 'evr_smoked_cig'),\n",
       " ('x7_1-2X', 8, 'alcohol_yr_freq'),\n",
       " ('x7_40+', 8, 'alcohol_yr_freq'),\n",
       " ('x24_0', 9, 'school_missed_ditched'),\n",
       " ('x7_10-19X', 11, 'alcohol_yr_freq'),\n",
       " ('x26_0', 11, 'skipped_class'),\n",
       " ('x8_3-5X', 12, 'alcohol_2weeks'),\n",
       " ('x4_Occasionally', 14, 'evr_smoked_cig'),\n",
       " ('x7_20-39X', 14, 'alcohol_yr_freq'),\n",
       " ('x5_1-5 Cigarettes', 15, 'cig_month_freq'),\n",
       " ('x5_<1 Cigarettes', 17, 'cig_month_freq'),\n",
       " ('x6_20-39X', 17, 'alcohol_lifetime_freq'),\n",
       " ('x8_Twice', 19, 'alcohol_2weeks'),\n",
       " ('x19_Every Week+', 19, 'relig_attd'),\n",
       " ('x4_1-2x', 20, 'evr_smoked_cig'),\n",
       " ('x6_1-2X', 21, 'alcohol_lifetime_freq'),\n",
       " ('x5_2 Packs', 22, 'cig_month_freq'),\n",
       " ('x6_3-5X', 23, 'alcohol_lifetime_freq'),\n",
       " ('x7_6-9X', 25, 'alcohol_yr_freq'),\n",
       " ('x8_Once', 25, 'alcohol_2weeks'),\n",
       " ('x20_Very Important', 25, 'relig_importance'),\n",
       " ('x4_Regularly in Past', 28, 'evr_smoked_cig'),\n",
       " ('x45_0', 28, '12mo_r_tcktd'),\n",
       " ('x6_10-19X', 29, 'alcohol_lifetime_freq'),\n",
       " ('x27_A+', 30, 'avg_grade'),\n",
       " ('x7_3-5X', 32, 'alcohol_yr_freq'),\n",
       " ('x20_Not Important', 32, 'relig_importance'),\n",
       " ('x26_3-5', 33, 'skipped_class'),\n",
       " ('x5_1 Pack', 35, 'cig_month_freq'),\n",
       " ('x42_4-5', 35, 'rec_time'),\n",
       " ('x26_1-2', 36, 'skipped_class'),\n",
       " ('x19_Never', 37, 'relig_attd'),\n",
       " ('x23_0', 38, 'school_missed_illness'),\n",
       " ('x6_6-9X', 39, 'alcohol_lifetime_freq'),\n",
       " ('x46_0', 40, '12mo_accidents'),\n",
       " ('x43_Never', 41, 'date_freq'),\n",
       " ('x3_1', 42, 'smsa'),\n",
       " ('x0_2019', 44, 'yr_adminst'),\n",
       " ('x3_0', 44, 'smsa'),\n",
       " ('x42_6-7', 45, 'rec_time'),\n",
       " ('x19_Rarely', 46, 'relig_attd'),\n",
       " ('x10_Farm', 47, 'area_type'),\n",
       " ('x20_A Little Important', 49, 'relig_importance'),\n",
       " ('x42_1', 49, 'rec_time'),\n",
       " ('x24_2', 50, 'school_missed_ditched'),\n",
       " ('x12_Yes', 51, 'has_father'),\n",
       " ('x1_NorthEast', 53, 'region'),\n",
       " ('x12_No', 53, 'has_father'),\n",
       " ('x24_1', 55, 'school_missed_ditched'),\n",
       " ('x42_2', 55, 'rec_time'),\n",
       " ('x31_Definitely Will', 56, '4yrcoll_after_hs'),\n",
       " ('x8_6-9X', 57, 'alcohol_2weeks'),\n",
       " ('x41_0', 58, 'other_income'),\n",
       " ('x16_Graduated HS', 60, 'mother_educ_lvl'),\n",
       " ('x17_Yes/Nearly All', 60, 'mother_employed'),\n",
       " ('x9_Male', 61, 'sex'),\n",
       " ('x20_Pretty Important', 62, 'relig_importance'),\n",
       " ('x9_Female', 64, 'sex'),\n",
       " ('x40_0', 64, 'work_pay'),\n",
       " ('x1_Midwest', 65, 'region'),\n",
       " ('x25_0', 66, 'school_missed_other'),\n",
       " ('x24_3', 67, 'school_missed_ditched'),\n",
       " ('x1_South', 68, 'region'),\n",
       " ('x10_Country', 69, 'area_type'),\n",
       " ('x18_Very Liberal', 70, 'political_value_type'),\n",
       " ('x18_Liberal', 71, 'political_value_type'),\n",
       " (\"x30_Definitely Won't\", 72, '2yrcoll_after_hs'),\n",
       " ('x15_Graduated HS', 74, 'father_educ_lvl'),\n",
       " ('x22_Average', 74, 'intelligence_self_rating'),\n",
       " ('x21_Average', 75, 'academic_self_rating'),\n",
       " ('x37_No', 76, 'desire_gradsch'),\n",
       " ('x45_1', 77, '12mo_r_tcktd'),\n",
       " ('x14_Yes', 78, 'has_siblings'),\n",
       " ('x10_Small Town', 80, 'area_type'),\n",
       " ('x14_No', 80, 'has_siblings'),\n",
       " ('x18_Conservative', 82, 'political_value_type'),\n",
       " (\"x28_Definitely Won't\", 82, 'tech_school_after_hs'),\n",
       " (\"x18_Don't Know\", 83, 'political_value_type'),\n",
       " ('x18_Moderate', 84, 'political_value_type'),\n",
       " ('x24_4-5', 86, 'school_missed_ditched'),\n",
       " ('x32_Probably Will', 86, 'gradsch_after_hs'),\n",
       " ('x37_Yes', 86, 'desire_gradsch'),\n",
       " ('x21_Above Average', 88, 'academic_self_rating'),\n",
       " ('x22_Above Average', 89, 'intelligence_self_rating'),\n",
       " ('x16_College Grad', 90, 'mother_educ_lvl'),\n",
       " (\"x29_Definitely Won't\", 91, 'military_after_hs'),\n",
       " ('x39_0', 92, 'work_hrs'),\n",
       " ('x31_Probably Will', 93, '4yrcoll_after_hs'),\n",
       " ('x32_Definitely Will', 95, 'gradsch_after_hs'),\n",
       " ('x40_126-175', 95, 'work_pay'),\n",
       " ('x44_51-100', 95, 'drive_freq'),\n",
       " ('x46_1', 97, '12mo_accidents'),\n",
       " ('x22_Slightly Above Average', 98, 'intelligence_self_rating'),\n",
       " ('x42_3', 99, 'rec_time'),\n",
       " (\"x32_Probably Won't\", 100, 'gradsch_after_hs'),\n",
       " ('x42_<1', 102, 'rec_time'),\n",
       " ('x44_11-50', 102, 'drive_freq'),\n",
       " ('x2_1', 103, 'msa'),\n",
       " ('x2_0', 104, 'msa'),\n",
       " ('x15_College Grad', 105, 'father_educ_lvl'),\n",
       " ('x21_Slightly Above Average', 107, 'academic_self_rating'),\n",
       " ('x27_A-', 107, 'avg_grade'),\n",
       " ('x44_101-200', 107, 'drive_freq'),\n",
       " ('x40_76-125', 109, 'work_pay'),\n",
       " ('x17_Yes/Some', 110, 'mother_employed'),\n",
       " ('x16_Some College', 111, 'mother_educ_lvl'),\n",
       " ('x35_No', 112, 'desire_2yrcoll'),\n",
       " ('x35_Yes', 113, 'desire_2yrcoll'),\n",
       " ('x25_1', 115, 'school_missed_other'),\n",
       " ('x27_B+', 115, 'avg_grade'),\n",
       " ('x43_2-3x Week', 116, 'date_freq'),\n",
       " ('x23_1', 117, 'school_missed_illness'),\n",
       " ('x19_1-2x Month', 119, 'relig_attd'),\n",
       " ('x27_B', 119, 'avg_grade'),\n",
       " ('x36_No', 119, 'desire_4yrcoll'),\n",
       " ('x30_Probably Will', 122, '2yrcoll_after_hs'),\n",
       " ('x36_Yes', 122, 'desire_4yrcoll'),\n",
       " ('x44_200+', 122, 'drive_freq'),\n",
       " (\"x28_Probably Won't\", 124, 'tech_school_after_hs'),\n",
       " ('x15_Some College', 125, 'father_educ_lvl'),\n",
       " ('x27_B-', 127, 'avg_grade'),\n",
       " ('x43_2-3x Month', 127, 'date_freq'),\n",
       " ('x30_Definitely Will', 129, '2yrcoll_after_hs'),\n",
       " (\"x32_Definitely Won't\", 129, 'gradsch_after_hs'),\n",
       " (\"x30_Probably Won't\", 130, '2yrcoll_after_hs'),\n",
       " ('x45_2', 131, '12mo_r_tcktd'),\n",
       " (\"x29_Probably Won't\", 132, 'military_after_hs'),\n",
       " ('x41_11-20', 133, 'other_income'),\n",
       " ('x17_Yes/Most', 134, 'mother_employed'),\n",
       " ('x43_1x Month', 135, 'date_freq'),\n",
       " ('x39_16-20', 136, 'work_hrs'),\n",
       " ('x43_1x Week', 137, 'date_freq'),\n",
       " ('x39_21-25', 138, 'work_hrs'),\n",
       " ('x17_No', 139, 'mother_employed'),\n",
       " ('x10_Medium City', 141, 'area_type'),\n",
       " ('x27_C+', 141, 'avg_grade'),\n",
       " ('x16_Graduate School', 142, 'mother_educ_lvl'),\n",
       " ('x10_Suburb of Medium City', 144, 'area_type'),\n",
       " ('x33_No', 144, 'desire_tech_school'),\n",
       " ('x34_No', 144, 'desire_military'),\n",
       " ('x15_Graduate School', 147, 'father_educ_lvl'),\n",
       " ('x33_Yes', 147, 'desire_tech_school'),\n",
       " ('x43_3x Week+', 148, 'date_freq'),\n",
       " ('x34_Yes', 149, 'desire_military'),\n",
       " ('x0_1995', 150, 'yr_adminst'),\n",
       " ('x39_30+', 151, 'work_hrs'),\n",
       " ('x41_21-35', 152, 'other_income'),\n",
       " ('x23_2', 153, 'school_missed_illness'),\n",
       " ('x13_No', 155, 'has_mother'),\n",
       " ('x25_2', 155, 'school_missed_other'),\n",
       " ('x13_Yes', 156, 'has_mother'),\n",
       " ('x39_11-15', 157, 'work_hrs'),\n",
       " ('x0_2015', 158, 'yr_adminst'),\n",
       " ('x15_Some High School', 159, 'father_educ_lvl'),\n",
       " ('x44_0', 160, 'drive_freq'),\n",
       " ('x27_C', 161, 'avg_grade'),\n",
       " ('x40_176+', 162, 'work_pay'),\n",
       " ('x11_Single', 163, 'marital_status'),\n",
       " ('x28_Probably Will', 164, 'tech_school_after_hs'),\n",
       " ('x39_26-30', 165, 'work_hrs'),\n",
       " ('x40_51-75', 166, 'work_pay'),\n",
       " ('x26_6-10', 167, 'skipped_class'),\n",
       " ('x0_1998', 169, 'yr_adminst'),\n",
       " ('x22_Far Above Average', 169, 'intelligence_self_rating'),\n",
       " ('x41_6-10', 169, 'other_income'),\n",
       " ('x0_1997', 171, 'yr_adminst'),\n",
       " ('x28_Definitely Will', 173, 'tech_school_after_hs'),\n",
       " ('x39_6-10', 173, 'work_hrs'),\n",
       " (\"x31_Definitely Won't\", 174, '4yrcoll_after_hs'),\n",
       " ('x0_1996', 175, 'yr_adminst'),\n",
       " ('x10_Large City', 176, 'area_type'),\n",
       " ('x10_Suburb of Large City', 177, 'area_type'),\n",
       " ('x0_2014', 178, 'yr_adminst'),\n",
       " ('x39_5 or less', 179, 'work_hrs'),\n",
       " ('x23_3', 180, 'school_missed_illness'),\n",
       " (\"x31_Probably Won't\", 181, '4yrcoll_after_hs'),\n",
       " ('x41_36-50', 182, 'other_income'),\n",
       " ('x18_Very Conservative', 183, 'political_value_type'),\n",
       " ('x16_Some High School', 184, 'mother_educ_lvl'),\n",
       " ('x11_Engaged', 185, 'marital_status'),\n",
       " ('x21_Far Above Average', 186, 'academic_self_rating'),\n",
       " ('x0_2011', 187, 'yr_adminst'),\n",
       " ('x45_3', 188, '12mo_r_tcktd'),\n",
       " ('x29_Probably Will', 190, 'military_after_hs'),\n",
       " ('x46_2', 190, '12mo_accidents'),\n",
       " ('x29_Definitely Will', 191, 'military_after_hs'),\n",
       " ('x25_3', 192, 'school_missed_other'),\n",
       " ('x44_1-10', 193, 'drive_freq'),\n",
       " ('x0_2006', 195, 'yr_adminst'),\n",
       " ('x10_City >500,000 (Vry Large)', 195, 'area_type'),\n",
       " ('x40_36-50', 195, 'work_pay'),\n",
       " ('x0_2012', 197, 'yr_adminst'),\n",
       " ('x21_Slightly Below Avg', 198, 'academic_self_rating'),\n",
       " ('x0_2003', 199, 'yr_adminst'),\n",
       " ('x0_2010', 201, 'yr_adminst'),\n",
       " ('x8_10+X', 201, 'alcohol_2weeks'),\n",
       " ('x0_2002', 203, 'yr_adminst'),\n",
       " ('x23_4-5', 203, 'school_missed_illness'),\n",
       " ('x0_2005', 204, 'yr_adminst'),\n",
       " ('x0_2007', 206, 'yr_adminst'),\n",
       " ('x41_1-5', 206, 'other_income'),\n",
       " ('x0_2004', 207, 'yr_adminst'),\n",
       " ('x0_2009', 209, 'yr_adminst'),\n",
       " ('x18_Radical', 209, 'political_value_type'),\n",
       " ('x25_4-5', 210, 'school_missed_other'),\n",
       " ('x10_Suburb of Vry Lrg City', 211, 'area_type'),\n",
       " ('x0_2008', 212, 'yr_adminst'),\n",
       " ('x38_No', 213, 'desire_none'),\n",
       " ('x38_Yes', 214, 'desire_none'),\n",
       " ('x22_Slightly Below Avg', 215, 'intelligence_self_rating'),\n",
       " ('x0_1999', 216, 'yr_adminst'),\n",
       " ('x41_51-75', 217, 'other_income'),\n",
       " ('x0_2000', 218, 'yr_adminst'),\n",
       " ('x40_21-35', 219, 'work_pay'),\n",
       " ('x0_2001', 220, 'yr_adminst'),\n",
       " ('x41_76-125', 221, 'other_income'),\n",
       " ('x15_Grade School', 223, 'father_educ_lvl'),\n",
       " ('x40_11-20', 223, 'work_pay'),\n",
       " ('x41_126-175', 224, 'other_income'),\n",
       " ('x27_C-', 225, 'avg_grade'),\n",
       " ('x45_4+', 226, '12mo_r_tcktd'),\n",
       " ('x11_Married', 227, 'marital_status'),\n",
       " ('x24_6-10', 228, 'school_missed_ditched'),\n",
       " ('x40_6-10', 229, 'work_pay'),\n",
       " ('x16_Grade School', 230, 'mother_educ_lvl'),\n",
       " ('x24_11+', 231, 'school_missed_ditched'),\n",
       " ('x1_West', 232, 'region'),\n",
       " ('x23_6-10', 233, 'school_missed_illness'),\n",
       " ('x25_6-10', 234, 'school_missed_other'),\n",
       " ('x21_Below Avg', 235, 'academic_self_rating'),\n",
       " ('x26_11-20', 236, 'skipped_class'),\n",
       " ('x41_176+', 237, 'other_income'),\n",
       " ('x22_Below Avg', 238, 'intelligence_self_rating'),\n",
       " ('x46_3', 239, '12mo_accidents'),\n",
       " ('x11_Separated/Divorced', 240, 'marital_status'),\n",
       " ('x27_D', 241, 'avg_grade'),\n",
       " ('x26_21+', 242, 'skipped_class'),\n",
       " ('x25_11+', 243, 'school_missed_other'),\n",
       " ('x40_1-5', 244, 'work_pay'),\n",
       " ('x21_Far Below', 246, 'academic_self_rating'),\n",
       " ('x23_11+', 246, 'school_missed_illness'),\n",
       " ('x5_1.5 Packs', 247, 'cig_month_freq'),\n",
       " ('x22_Far Below', 248, 'intelligence_self_rating'),\n",
       " ('x46_4+', 249, '12mo_accidents'),\n",
       " ('x5_2+ Packs', 250, 'cig_month_freq')]"
      ]
     },
     "execution_count": 80,
     "metadata": {},
     "output_type": "execute_result"
    }
   ],
   "source": [
    "# Only sampling_weight and x4_Never were included in the Green area (with vanilla Boruta)\n",
    "features = list(zip(X_tr_pp.columns, boruta.ranking_, labeled_cols))\n",
    "sorted(features, key=lambda x: x[1])"
   ]
  },
  {
   "cell_type": "code",
   "execution_count": 59,
   "metadata": {},
   "outputs": [
    {
     "name": "stdout",
     "output_type": "stream",
     "text": [
      "Columns within Area of Acceptance\n",
      " Index(['x4_Never', 'sampling_weight'], dtype='object')\n",
      "Columns within Area of Irresolution\n",
      " Index([], dtype='object')\n"
     ]
    }
   ],
   "source": [
    "print(\"Columns within Area of Acceptance\\n\", green_area)\n",
    "print(\"Columns within Area of Irresolution\\n\", blue_area)"
   ]
  },
  {
   "cell_type": "code",
   "execution_count": null,
   "metadata": {},
   "outputs": [],
   "source": []
  },
  {
   "cell_type": "code",
   "execution_count": null,
   "metadata": {},
   "outputs": [],
   "source": []
  },
  {
   "cell_type": "code",
   "execution_count": null,
   "metadata": {},
   "outputs": [],
   "source": []
  },
  {
   "cell_type": "markdown",
   "metadata": {},
   "source": [
    "## Conclusions\n",
    "\n",
    "### Next Steps\n",
    "* Further su\n",
    "\n",
    "### Sources"
   ]
  }
 ],
 "metadata": {
  "kernelspec": {
   "display_name": "Python 3",
   "language": "python",
   "name": "python3"
  },
  "language_info": {
   "codemirror_mode": {
    "name": "ipython",
    "version": 3
   },
   "file_extension": ".py",
   "mimetype": "text/x-python",
   "name": "python",
   "nbconvert_exporter": "python",
   "pygments_lexer": "ipython3",
   "version": "3.8.5"
  }
 },
 "nbformat": 4,
 "nbformat_minor": 4
}
