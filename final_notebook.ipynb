{
 "cells": [
  {
   "cell_type": "markdown",
   "metadata": {},
   "source": [
    "# Predicting Adolescent Drug Use with Machine Learning"
   ]
  },
  {
   "cell_type": "markdown",
   "metadata": {},
   "source": [
    "<div style=\"text-align:center\"><img src='img/stopdrugs.png'/></div>\n",
    "\n",
    "#### Author: [Jamie Dowat](mailto:jamie_dowat44@yahoo.com)"
   ]
  },
  {
   "cell_type": "markdown",
   "metadata": {},
   "source": [
    "***********\n",
    "#### The drug problem in the United States is widespread and growing:\n",
    "\n",
    "> [Mortality rates](https://jamanetwork.com/journals/jama/article-abstract/2674665) from drug use disorders increased nationally and in every county between 1980 and 2014, but the relative increase varied from 8.2% to 8369.7%.\n",
    "\n",
    "************\n",
    "> No suprise, but more and more research is showing the level of damage drugs do to the brain. Check out this diagram from Amen Clinics:\n",
    "\n",
    "<div style=\"text-align:center\"><img src='img/amenbrain.png'/></div>\n",
    "\n",
    "************\n",
    "\n",
    "> [**Adolescents**](https://www.drugabuse.gov/news-events/news-releases/2021/03/younger-age-of-first-cann[…]ssociated-with-faster-development-of-substance-use-disorders) are especially vulnerable. After a year since first use of drugs:\n",
    "        * 11.2% of adolescents had prescription opioid use disorder versus 6.9% of young adults. \n",
    "        * 13.9% of adolescents had prescription stimulant use disorder versus 3.9% of young adults. \n",
    "        * 11.2% of adolescents had prescription tranquilizer use disorder versus 4.7% of young adults.\n",
    "        \n",
    "***********        \n",
    "\n",
    "> The author of the above study on adolescents noted: ***“This [study] underscores the importance of drug use prevention and screening for substance use or misuse among adolescents and young adults. Offering timely treatment and support to young people who need it must be a public health priority.”***\n",
    "\n",
    "***********\n",
    "\n",
    "## POTENTIAL STAKEHOLDER & DEPLOYMENT:\n",
    "\n",
    "In terms of real-life value, this model mirrors much of the work being done by the NIDA and SAMHSA. This model has potential to serve as a barometer for high schools, who can implement the survey anonymously and gain some high-level data about the state of their school and be able to more precisely analyze trends amongst their students and measure their prevention efforts against any changes seen in the model.\n",
    "\n",
    "## DATA: [Monitoring the Future](www.monitoringthefuture.org)\n",
    "\n",
    "<p float=\"right\">\n",
    "    <img src=\"img/nida.png\" width=\"100\" />\n",
    "    <img src=\"img/mtf.png\" width=\"100\" />\n",
    "    <img src=\"img/samhsa.png\" width=\"100\" />\n",
    "</p>\n",
    "\n",
    "\n",
    "Monitoring the Future began in 1975 as an attempt to collect and study drug use and feelings toward drug use amongst adolescents (8th-12th). This project specifically focuses on survey responses from 12th graders (since data for younger cohorts was not all open source), totaling to approximately 360,000 high school seniors across 133 schools nationwide.\n",
    "For more information about the design and implementation of the study, click [here](http://monitoringthefuture.org/purpose.html).\n",
    "About 6 different forms of the survey are distributed, each with slightly different questions.\n",
    "\n",
    "**Questions** in this dataset are limited to the following:\n",
    "* Demographic information\n",
    "* Drug Use Information\n",
    "\n",
    "To download the dataset used in this notebook, click [here](https://www.kaggle.com/jamiedowat/monitoring-the-future-12th-grade-drug-use-survey).\n",
    "\n",
    "## MODELING:\n",
    "\n",
    "The following models were implemented, along with [Boruta feature selection](https://towardsdatascience.com/boruta-explained-the-way-i-wish-someone-explained-it-to-me-4489d70e154a) and Bayesian Optimization.\n",
    "* Logistic Regression\n",
    "* Decision Trees\n",
    "* Random Forests\n",
    "* XGBoost\n",
    "\n",
    "The **final model** produced an accuracy of ___ and a recall of ___\n",
    "\n",
    "**Recall** was given extra attention as a metric, since false negatives (predicting no drug use when drug use is present) are predictions that would potentially cause the most harm.\n",
    "\n",
    "***********\n"
   ]
  },
  {
   "cell_type": "markdown",
   "metadata": {},
   "source": [
    "## Data Exploration"
   ]
  },
  {
   "cell_type": "code",
   "execution_count": 2,
   "metadata": {},
   "outputs": [],
   "source": [
    "import pandas as pd\n",
    "import numpy as np\n",
    "import matplotlib.pyplot as plt\n",
    "import seaborn as sns\n",
    "%matplotlib inline"
   ]
  },
  {
   "cell_type": "code",
   "execution_count": 2,
   "metadata": {},
   "outputs": [],
   "source": [
    "survey = pd.read_csv('data/modeling_data/mtf.csv')"
   ]
  },
  {
   "cell_type": "code",
   "execution_count": 3,
   "metadata": {},
   "outputs": [
    {
     "data": {
      "text/html": [
       "<div>\n",
       "<style scoped>\n",
       "    .dataframe tbody tr th:only-of-type {\n",
       "        vertical-align: middle;\n",
       "    }\n",
       "\n",
       "    .dataframe tbody tr th {\n",
       "        vertical-align: top;\n",
       "    }\n",
       "\n",
       "    .dataframe thead th {\n",
       "        text-align: right;\n",
       "    }\n",
       "</style>\n",
       "<table border=\"1\" class=\"dataframe\">\n",
       "  <thead>\n",
       "    <tr style=\"text-align: right;\">\n",
       "      <th></th>\n",
       "      <th>yr_adminst</th>\n",
       "      <th>sampling_weight</th>\n",
       "      <th>region</th>\n",
       "      <th>msa</th>\n",
       "      <th>smsa</th>\n",
       "      <th>siblings</th>\n",
       "      <th>evr_smoked_cig</th>\n",
       "      <th>cig_month_freq</th>\n",
       "      <th>evr_drink</th>\n",
       "      <th>alcohol_lifetime_freq</th>\n",
       "      <th>...</th>\n",
       "      <th>hgh_yr_freq</th>\n",
       "      <th>pwd_alc_yr_freq</th>\n",
       "      <th>hookah_month_freq</th>\n",
       "      <th>evr_vape</th>\n",
       "      <th>vape_marj_lifetime_freq</th>\n",
       "      <th>vape_marj_yr_freq</th>\n",
       "      <th>vape_marj_month_freq</th>\n",
       "      <th>vape_flav_lifetime_freq</th>\n",
       "      <th>vape_flav_yr_freq</th>\n",
       "      <th>vape_flav_month_freq</th>\n",
       "    </tr>\n",
       "  </thead>\n",
       "  <tbody>\n",
       "    <tr>\n",
       "      <th>0</th>\n",
       "      <td>1995</td>\n",
       "      <td>0.6</td>\n",
       "      <td>Midwest</td>\n",
       "      <td>1</td>\n",
       "      <td>1</td>\n",
       "      <td>1</td>\n",
       "      <td>Never</td>\n",
       "      <td>None</td>\n",
       "      <td>Unknown</td>\n",
       "      <td>0</td>\n",
       "      <td>...</td>\n",
       "      <td>Unknown</td>\n",
       "      <td>Unknown</td>\n",
       "      <td>Unknown</td>\n",
       "      <td>Unknown</td>\n",
       "      <td>Unknown</td>\n",
       "      <td>Unknown</td>\n",
       "      <td>Unknown</td>\n",
       "      <td>Unknown</td>\n",
       "      <td>Unknown</td>\n",
       "      <td>Unknown</td>\n",
       "    </tr>\n",
       "    <tr>\n",
       "      <th>1</th>\n",
       "      <td>1995</td>\n",
       "      <td>0.6</td>\n",
       "      <td>West</td>\n",
       "      <td>0</td>\n",
       "      <td>1</td>\n",
       "      <td>2</td>\n",
       "      <td>Regularly Now</td>\n",
       "      <td>2+ Packs</td>\n",
       "      <td>Unknown</td>\n",
       "      <td>40+</td>\n",
       "      <td>...</td>\n",
       "      <td>Unknown</td>\n",
       "      <td>Unknown</td>\n",
       "      <td>Unknown</td>\n",
       "      <td>Unknown</td>\n",
       "      <td>Unknown</td>\n",
       "      <td>Unknown</td>\n",
       "      <td>Unknown</td>\n",
       "      <td>Unknown</td>\n",
       "      <td>Unknown</td>\n",
       "      <td>Unknown</td>\n",
       "    </tr>\n",
       "    <tr>\n",
       "      <th>2</th>\n",
       "      <td>1995</td>\n",
       "      <td>0.9</td>\n",
       "      <td>Midwest</td>\n",
       "      <td>0</td>\n",
       "      <td>1</td>\n",
       "      <td>1</td>\n",
       "      <td>Regularly Now</td>\n",
       "      <td>2 Packs</td>\n",
       "      <td>Unknown</td>\n",
       "      <td>40+</td>\n",
       "      <td>...</td>\n",
       "      <td>Unknown</td>\n",
       "      <td>Unknown</td>\n",
       "      <td>Unknown</td>\n",
       "      <td>Unknown</td>\n",
       "      <td>Unknown</td>\n",
       "      <td>Unknown</td>\n",
       "      <td>Unknown</td>\n",
       "      <td>Unknown</td>\n",
       "      <td>Unknown</td>\n",
       "      <td>Unknown</td>\n",
       "    </tr>\n",
       "    <tr>\n",
       "      <th>3</th>\n",
       "      <td>1995</td>\n",
       "      <td>0.6</td>\n",
       "      <td>South</td>\n",
       "      <td>0</td>\n",
       "      <td>0</td>\n",
       "      <td>3+</td>\n",
       "      <td>Never</td>\n",
       "      <td>None</td>\n",
       "      <td>Unknown</td>\n",
       "      <td>0</td>\n",
       "      <td>...</td>\n",
       "      <td>Unknown</td>\n",
       "      <td>Unknown</td>\n",
       "      <td>Unknown</td>\n",
       "      <td>Unknown</td>\n",
       "      <td>Unknown</td>\n",
       "      <td>Unknown</td>\n",
       "      <td>Unknown</td>\n",
       "      <td>Unknown</td>\n",
       "      <td>Unknown</td>\n",
       "      <td>Unknown</td>\n",
       "    </tr>\n",
       "    <tr>\n",
       "      <th>4</th>\n",
       "      <td>1995</td>\n",
       "      <td>0.9</td>\n",
       "      <td>Midwest</td>\n",
       "      <td>1</td>\n",
       "      <td>1</td>\n",
       "      <td>None</td>\n",
       "      <td>Never</td>\n",
       "      <td>None</td>\n",
       "      <td>Unknown</td>\n",
       "      <td>0</td>\n",
       "      <td>...</td>\n",
       "      <td>Unknown</td>\n",
       "      <td>Unknown</td>\n",
       "      <td>Unknown</td>\n",
       "      <td>Unknown</td>\n",
       "      <td>Unknown</td>\n",
       "      <td>Unknown</td>\n",
       "      <td>Unknown</td>\n",
       "      <td>Unknown</td>\n",
       "      <td>Unknown</td>\n",
       "      <td>Unknown</td>\n",
       "    </tr>\n",
       "  </tbody>\n",
       "</table>\n",
       "<p>5 rows × 210 columns</p>\n",
       "</div>"
      ],
      "text/plain": [
       "   yr_adminst  sampling_weight   region  msa  smsa siblings evr_smoked_cig  \\\n",
       "0        1995              0.6  Midwest    1     1        1          Never   \n",
       "1        1995              0.6     West    0     1        2  Regularly Now   \n",
       "2        1995              0.9  Midwest    0     1        1  Regularly Now   \n",
       "3        1995              0.6    South    0     0       3+          Never   \n",
       "4        1995              0.9  Midwest    1     1     None          Never   \n",
       "\n",
       "  cig_month_freq evr_drink alcohol_lifetime_freq  ... hgh_yr_freq  \\\n",
       "0           None   Unknown                     0  ...     Unknown   \n",
       "1       2+ Packs   Unknown                   40+  ...     Unknown   \n",
       "2        2 Packs   Unknown                   40+  ...     Unknown   \n",
       "3           None   Unknown                     0  ...     Unknown   \n",
       "4           None   Unknown                     0  ...     Unknown   \n",
       "\n",
       "  pwd_alc_yr_freq hookah_month_freq evr_vape vape_marj_lifetime_freq  \\\n",
       "0         Unknown           Unknown  Unknown                 Unknown   \n",
       "1         Unknown           Unknown  Unknown                 Unknown   \n",
       "2         Unknown           Unknown  Unknown                 Unknown   \n",
       "3         Unknown           Unknown  Unknown                 Unknown   \n",
       "4         Unknown           Unknown  Unknown                 Unknown   \n",
       "\n",
       "  vape_marj_yr_freq vape_marj_month_freq vape_flav_lifetime_freq  \\\n",
       "0           Unknown              Unknown                 Unknown   \n",
       "1           Unknown              Unknown                 Unknown   \n",
       "2           Unknown              Unknown                 Unknown   \n",
       "3           Unknown              Unknown                 Unknown   \n",
       "4           Unknown              Unknown                 Unknown   \n",
       "\n",
       "  vape_flav_yr_freq vape_flav_month_freq  \n",
       "0           Unknown              Unknown  \n",
       "1           Unknown              Unknown  \n",
       "2           Unknown              Unknown  \n",
       "3           Unknown              Unknown  \n",
       "4           Unknown              Unknown  \n",
       "\n",
       "[5 rows x 210 columns]"
      ]
     },
     "execution_count": 3,
     "metadata": {},
     "output_type": "execute_result"
    }
   ],
   "source": [
    "survey.head()"
   ]
  },
  {
   "cell_type": "code",
   "execution_count": 3,
   "metadata": {},
   "outputs": [],
   "source": [
    "from src import eda"
   ]
  },
  {
   "cell_type": "code",
   "execution_count": 6,
   "metadata": {
    "scrolled": true
   },
   "outputs": [
    {
     "data": {
      "image/png": "[encoded data removed]",
      "text/plain": [
       "<Figure size 432x288 with 1 Axes>"
      ]
     },
     "metadata": {},
     "output_type": "display_data"
    }
   ],
   "source": [
    "eda.marijuana_use_by_year(survey)"
   ]
  },
  {
   "cell_type": "code",
   "execution_count": 4,
   "metadata": {},
   "outputs": [
    {
     "data": {
      "image/png": "[encoded data removed]",
      "text/plain": [
       "<Figure size 432x288 with 1 Axes>"
      ]
     },
     "metadata": {},
     "output_type": "display_data"
    }
   ],
   "source": [
    "eda.cigarette_use_by_year(survey)"
   ]
  },
  {
   "cell_type": "code",
   "execution_count": 5,
   "metadata": {},
   "outputs": [
    {
     "data": {
      "text/plain": [
       "Unknown         14482\n",
       "Occasionally        7\n",
       "1-2x                7\n",
       "Never               6\n",
       "Name: evr_smoked_cig, dtype: int64"
      ]
     },
     "execution_count": 5,
     "metadata": {},
     "output_type": "execute_result"
    }
   ],
   "source": [
    "survey[survey['yr_adminst']==2018]['evr_smoked_cig'].value_counts()"
   ]
  },
  {
   "cell_type": "code",
   "execution_count": 7,
   "metadata": {},
   "outputs": [
    {
     "data": {
      "image/png": "[encoded data removed]",
      "text/plain": [
       "<Figure size 432x288 with 1 Axes>"
      ]
     },
     "metadata": {},
     "output_type": "display_data"
    }
   ],
   "source": [
    "eda.other_drug_use_by_year(survey)"
   ]
  },
  {
   "cell_type": "code",
   "execution_count": 8,
   "metadata": {},
   "outputs": [
    {
     "data": {
      "image/png": "[encoded data removed]",
      "text/plain": [
       "<Figure size 720x432 with 1 Axes>"
      ]
     },
     "metadata": {},
     "output_type": "display_data"
    }
   ],
   "source": [
    "eda.drug_popularity(survey)"
   ]
  },
  {
   "cell_type": "markdown",
   "metadata": {},
   "source": [
    "## Modeling"
   ]
  },
  {
   "cell_type": "code",
   "execution_count": 3,
   "metadata": {
    "scrolled": true
   },
   "outputs": [],
   "source": [
    "data = pd.read_csv('data/modeling_data/mtf_with_target.csv')"
   ]
  },
  {
   "cell_type": "code",
   "execution_count": 4,
   "metadata": {},
   "outputs": [
    {
     "data": {
      "text/html": [
       "<div>\n",
       "<style scoped>\n",
       "    .dataframe tbody tr th:only-of-type {\n",
       "        vertical-align: middle;\n",
       "    }\n",
       "\n",
       "    .dataframe tbody tr th {\n",
       "        vertical-align: top;\n",
       "    }\n",
       "\n",
       "    .dataframe thead th {\n",
       "        text-align: right;\n",
       "    }\n",
       "</style>\n",
       "<table border=\"1\" class=\"dataframe\">\n",
       "  <thead>\n",
       "    <tr style=\"text-align: right;\">\n",
       "      <th></th>\n",
       "      <th>yr_adminst</th>\n",
       "      <th>sampling_weight</th>\n",
       "      <th>region</th>\n",
       "      <th>msa</th>\n",
       "      <th>smsa</th>\n",
       "      <th>evr_smoked_cig</th>\n",
       "      <th>cig_month_freq</th>\n",
       "      <th>alcohol_lifetime_freq</th>\n",
       "      <th>alcohol_yr_freq</th>\n",
       "      <th>alcohol_2weeks</th>\n",
       "      <th>...</th>\n",
       "      <th>work_hrs</th>\n",
       "      <th>work_pay</th>\n",
       "      <th>other_income</th>\n",
       "      <th>rec_time</th>\n",
       "      <th>date_freq</th>\n",
       "      <th>drive_freq</th>\n",
       "      <th>12mo_r_tcktd</th>\n",
       "      <th>12mo_accidents</th>\n",
       "      <th>num_drugs_yr</th>\n",
       "      <th>binary_drug</th>\n",
       "    </tr>\n",
       "  </thead>\n",
       "  <tbody>\n",
       "    <tr>\n",
       "      <th>0</th>\n",
       "      <td>1995</td>\n",
       "      <td>0.6</td>\n",
       "      <td>Midwest</td>\n",
       "      <td>1</td>\n",
       "      <td>1</td>\n",
       "      <td>Never</td>\n",
       "      <td>None</td>\n",
       "      <td>0</td>\n",
       "      <td>0</td>\n",
       "      <td>None</td>\n",
       "      <td>...</td>\n",
       "      <td>30+</td>\n",
       "      <td>126-175</td>\n",
       "      <td>0</td>\n",
       "      <td>4-5</td>\n",
       "      <td>2-3x Month</td>\n",
       "      <td>51-100</td>\n",
       "      <td>0</td>\n",
       "      <td>0</td>\n",
       "      <td>0</td>\n",
       "      <td>0</td>\n",
       "    </tr>\n",
       "    <tr>\n",
       "      <th>1</th>\n",
       "      <td>1995</td>\n",
       "      <td>0.6</td>\n",
       "      <td>West</td>\n",
       "      <td>0</td>\n",
       "      <td>1</td>\n",
       "      <td>Regularly Now</td>\n",
       "      <td>2+ Packs</td>\n",
       "      <td>40+</td>\n",
       "      <td>40+</td>\n",
       "      <td>10+X</td>\n",
       "      <td>...</td>\n",
       "      <td>5 or less</td>\n",
       "      <td>21-35</td>\n",
       "      <td>126-175</td>\n",
       "      <td>&lt;1</td>\n",
       "      <td>Never</td>\n",
       "      <td>1-10</td>\n",
       "      <td>0</td>\n",
       "      <td>0</td>\n",
       "      <td>9</td>\n",
       "      <td>1</td>\n",
       "    </tr>\n",
       "    <tr>\n",
       "      <th>2</th>\n",
       "      <td>1995</td>\n",
       "      <td>1.8</td>\n",
       "      <td>South</td>\n",
       "      <td>1</td>\n",
       "      <td>1</td>\n",
       "      <td>Never</td>\n",
       "      <td>None</td>\n",
       "      <td>3-5X</td>\n",
       "      <td>3-5X</td>\n",
       "      <td>None</td>\n",
       "      <td>...</td>\n",
       "      <td>11-15</td>\n",
       "      <td>51-75</td>\n",
       "      <td>6-10</td>\n",
       "      <td>2</td>\n",
       "      <td>1x Month</td>\n",
       "      <td>11-50</td>\n",
       "      <td>0</td>\n",
       "      <td>1</td>\n",
       "      <td>0</td>\n",
       "      <td>0</td>\n",
       "    </tr>\n",
       "    <tr>\n",
       "      <th>3</th>\n",
       "      <td>1995</td>\n",
       "      <td>0.9</td>\n",
       "      <td>South</td>\n",
       "      <td>0</td>\n",
       "      <td>1</td>\n",
       "      <td>1-2x</td>\n",
       "      <td>None</td>\n",
       "      <td>40+</td>\n",
       "      <td>6-9X</td>\n",
       "      <td>Once</td>\n",
       "      <td>...</td>\n",
       "      <td>0</td>\n",
       "      <td>0</td>\n",
       "      <td>0</td>\n",
       "      <td>2</td>\n",
       "      <td>2-3x Month</td>\n",
       "      <td>51-100</td>\n",
       "      <td>0</td>\n",
       "      <td>0</td>\n",
       "      <td>1</td>\n",
       "      <td>1</td>\n",
       "    </tr>\n",
       "    <tr>\n",
       "      <th>4</th>\n",
       "      <td>1995</td>\n",
       "      <td>0.9</td>\n",
       "      <td>NorthEast</td>\n",
       "      <td>0</td>\n",
       "      <td>1</td>\n",
       "      <td>Never</td>\n",
       "      <td>None</td>\n",
       "      <td>0</td>\n",
       "      <td>0</td>\n",
       "      <td>None</td>\n",
       "      <td>...</td>\n",
       "      <td>0</td>\n",
       "      <td>0</td>\n",
       "      <td>11-20</td>\n",
       "      <td>2</td>\n",
       "      <td>Never</td>\n",
       "      <td>51-100</td>\n",
       "      <td>0</td>\n",
       "      <td>1</td>\n",
       "      <td>0</td>\n",
       "      <td>0</td>\n",
       "    </tr>\n",
       "  </tbody>\n",
       "</table>\n",
       "<p>5 rows × 77 columns</p>\n",
       "</div>"
      ],
      "text/plain": [
       "   yr_adminst  sampling_weight     region  msa  smsa evr_smoked_cig  \\\n",
       "0        1995              0.6    Midwest    1     1          Never   \n",
       "1        1995              0.6       West    0     1  Regularly Now   \n",
       "2        1995              1.8      South    1     1          Never   \n",
       "3        1995              0.9      South    0     1           1-2x   \n",
       "4        1995              0.9  NorthEast    0     1          Never   \n",
       "\n",
       "  cig_month_freq alcohol_lifetime_freq alcohol_yr_freq alcohol_2weeks  ...  \\\n",
       "0           None                     0               0           None  ...   \n",
       "1       2+ Packs                   40+             40+           10+X  ...   \n",
       "2           None                  3-5X            3-5X           None  ...   \n",
       "3           None                   40+            6-9X           Once  ...   \n",
       "4           None                     0               0           None  ...   \n",
       "\n",
       "    work_hrs  work_pay other_income rec_time   date_freq drive_freq  \\\n",
       "0        30+   126-175            0      4-5  2-3x Month     51-100   \n",
       "1  5 or less     21-35      126-175       <1       Never       1-10   \n",
       "2      11-15     51-75         6-10        2    1x Month      11-50   \n",
       "3          0         0            0        2  2-3x Month     51-100   \n",
       "4          0         0        11-20        2       Never     51-100   \n",
       "\n",
       "  12mo_r_tcktd  12mo_accidents num_drugs_yr binary_drug  \n",
       "0            0               0            0           0  \n",
       "1            0               0            9           1  \n",
       "2            0               1            0           0  \n",
       "3            0               0            1           1  \n",
       "4            0               1            0           0  \n",
       "\n",
       "[5 rows x 77 columns]"
      ]
     },
     "execution_count": 4,
     "metadata": {},
     "output_type": "execute_result"
    }
   ],
   "source": [
    "data.head()"
   ]
  },
  {
   "cell_type": "code",
   "execution_count": 11,
   "metadata": {
    "scrolled": false
   },
   "outputs": [
    {
     "data": {
      "image/png": "[encoded data removed]",
      "text/plain": [
       "<Figure size 432x288 with 1 Axes>"
      ]
     },
     "metadata": {},
     "output_type": "display_data"
    }
   ],
   "source": [
    "eda.number_of_drugs_used_past_year(data)"
   ]
  },
  {
   "cell_type": "code",
   "execution_count": 12,
   "metadata": {},
   "outputs": [
    {
     "data": {
      "image/png": "[encoded data removed]",
      "text/plain": [
       "<Figure size 432x288 with 1 Axes>"
      ]
     },
     "metadata": {},
     "output_type": "display_data"
    }
   ],
   "source": [
    "eda.class_distribution(data)"
   ]
  },
  {
   "cell_type": "code",
   "execution_count": 4,
   "metadata": {},
   "outputs": [],
   "source": [
    "from src.modeling import drug_cols\n",
    "data.drop(drug_cols, axis=1, inplace=True)"
   ]
  },
  {
   "cell_type": "code",
   "execution_count": 5,
   "metadata": {},
   "outputs": [],
   "source": [
    "X = data.drop('binary_drug', axis=1)\n",
    "y = data.binary_drug"
   ]
  },
  {
   "cell_type": "code",
   "execution_count": 6,
   "metadata": {},
   "outputs": [],
   "source": [
    "from sklearn.model_selection import train_test_split"
   ]
  },
  {
   "cell_type": "code",
   "execution_count": 7,
   "metadata": {},
   "outputs": [],
   "source": [
    "X_train, X_test, y_train, y_test = train_test_split(X, y, test_size=0.2, random_state=1)"
   ]
  },
  {
   "cell_type": "markdown",
   "metadata": {},
   "source": [
    "For plotting confusion matrices:"
   ]
  },
  {
   "cell_type": "code",
   "execution_count": 8,
   "metadata": {},
   "outputs": [],
   "source": [
    "X_tr_pp = pd.read_csv('data/modeling_data/X_tr_pp.csv')\n",
    "y_tr_pp = pd.read_csv('data/modeling_data/y_tr_pp.csv')"
   ]
  },
  {
   "cell_type": "code",
   "execution_count": 9,
   "metadata": {},
   "outputs": [],
   "source": [
    "from sklearn.linear_model import LogisticRegression\n",
    "from sklearn.tree import DecisionTreeClassifier\n",
    "from sklearn.ensemble import RandomForestClassifier"
   ]
  },
  {
   "cell_type": "code",
   "execution_count": 10,
   "metadata": {},
   "outputs": [],
   "source": [
    "from src.modeling import ModelHistory"
   ]
  },
  {
   "cell_type": "code",
   "execution_count": 11,
   "metadata": {},
   "outputs": [],
   "source": [
    "history = ModelHistory(X_train, y_train, X_test, y_test)"
   ]
  },
  {
   "cell_type": "markdown",
   "metadata": {},
   "source": [
    "***********\n",
    "### First Simple Model"
   ]
  },
  {
   "cell_type": "code",
   "execution_count": 12,
   "metadata": {},
   "outputs": [],
   "source": [
    "fsm_lr = LogisticRegression(max_iter=10000, C=0.1)"
   ]
  },
  {
   "cell_type": "code",
   "execution_count": 13,
   "metadata": {},
   "outputs": [],
   "source": [
    "val_recall, val_prec, val_acc, roc_auc, lr1 = history.kfold_validation(fsm_lr, 'LogReg 1 AllFeatures', ['sampling_weight'], X_train.drop('sampling_weight', axis=1).columns)\n"
   ]
  },
  {
   "cell_type": "code",
   "execution_count": 14,
   "metadata": {},
   "outputs": [],
   "source": [
    "from sklearn.metrics import plot_confusion_matrix"
   ]
  },
  {
   "cell_type": "code",
   "execution_count": 15,
   "metadata": {},
   "outputs": [
    {
     "data": {
      "text/plain": [
       "<sklearn.metrics._plot.confusion_matrix.ConfusionMatrixDisplay at 0x7f84247b5850>"
      ]
     },
     "execution_count": 15,
     "metadata": {},
     "output_type": "execute_result"
    },
    {
     "data": {
      "image/png": "[encoded data removed]",
      "text/plain": [
       "<Figure size 432x288 with 2 Axes>"
      ]
     },
     "metadata": {},
     "output_type": "display_data"
    }
   ],
   "source": [
    "plot_confusion_matrix(lr1, X_tr_pp, y_tr_pp)"
   ]
  },
  {
   "cell_type": "code",
   "execution_count": 16,
   "metadata": {},
   "outputs": [],
   "source": [
    "fsm_dt = DecisionTreeClassifier()"
   ]
  },
  {
   "cell_type": "code",
   "execution_count": 17,
   "metadata": {},
   "outputs": [],
   "source": [
    "val_recall, val_prec, val_acc, roc_auc, dt1 = history.kfold_validation(fsm_dt, 'DecTree 1 AllFeatures', ['sampling_weight'], X_train.drop('sampling_weight', axis=1).columns)"
   ]
  },
  {
   "cell_type": "code",
   "execution_count": 18,
   "metadata": {},
   "outputs": [
    {
     "data": {
      "text/plain": [
       "<sklearn.metrics._plot.confusion_matrix.ConfusionMatrixDisplay at 0x7f8425b4a9a0>"
      ]
     },
     "execution_count": 18,
     "metadata": {},
     "output_type": "execute_result"
    },
    {
     "data": {
      "image/png": "[encoded data removed]",
      "text/plain": [
       "<Figure size 432x288 with 2 Axes>"
      ]
     },
     "metadata": {},
     "output_type": "display_data"
    }
   ],
   "source": [
    "plot_confusion_matrix(dt1, X_tr_pp, y_tr_pp)"
   ]
  },
  {
   "cell_type": "code",
   "execution_count": 19,
   "metadata": {},
   "outputs": [],
   "source": [
    "fsm_rf = RandomForestClassifier()"
   ]
  },
  {
   "cell_type": "code",
   "execution_count": 20,
   "metadata": {},
   "outputs": [],
   "source": [
    "val_recall, val_prec, val_acc, roc_auc, rf1 = history.kfold_validation(fsm_rf, 'RandFor 1 AllFeatures', ['sampling_weight'], X_train.drop('sampling_weight', axis=1).columns)"
   ]
  },
  {
   "cell_type": "code",
   "execution_count": 21,
   "metadata": {},
   "outputs": [
    {
     "data": {
      "text/plain": [
       "<sklearn.metrics._plot.confusion_matrix.ConfusionMatrixDisplay at 0x7f837e4ef4c0>"
      ]
     },
     "execution_count": 21,
     "metadata": {},
     "output_type": "execute_result"
    },
    {
     "data": {
      "image/png": "[encoded data removed]",
      "text/plain": [
       "<Figure size 432x288 with 2 Axes>"
      ]
     },
     "metadata": {},
     "output_type": "display_data"
    }
   ],
   "source": [
    "plot_confusion_matrix(rf1, X_tr_pp, y_tr_pp)"
   ]
  },
  {
   "cell_type": "markdown",
   "metadata": {},
   "source": [
    "***********\n",
    "### GridSearch"
   ]
  },
  {
   "cell_type": "code",
   "execution_count": 11,
   "metadata": {},
   "outputs": [],
   "source": [
    "from sklearn.model_selection import GridSearchCV"
   ]
  },
  {
   "cell_type": "markdown",
   "metadata": {},
   "source": [
    "##### Logistic Regression"
   ]
  },
  {
   "cell_type": "code",
   "execution_count": 12,
   "metadata": {},
   "outputs": [],
   "source": [
    "lr = LogisticRegression(max_iter=10000, C=0.1)"
   ]
  },
  {
   "cell_type": "code",
   "execution_count": 13,
   "metadata": {},
   "outputs": [],
   "source": [
    "grid = {'penalty': ['l1', 'l2', 'elasticnet'],\n",
    "       'tol': [0.0001, 0.00005, 0.00001],\n",
    "       'class_weight': [{0:0.7, 1:1}, None]}"
   ]
  },
  {
   "cell_type": "code",
   "execution_count": 14,
   "metadata": {},
   "outputs": [],
   "source": [
    "lrgs = GridSearchCV(lr, grid)"
   ]
  },
  {
   "cell_type": "code",
   "execution_count": 15,
   "metadata": {},
   "outputs": [],
   "source": [
    "val_recall, val_prec, val_acc, roc_auc, lr2 = history.kfold_validation(lrgs, 'LogReg 2 AllFeatures', ['sampling_weight'], X_train.drop('sampling_weight', axis=1).columns)\n"
   ]
  },
  {
   "cell_type": "code",
   "execution_count": 23,
   "metadata": {},
   "outputs": [
    {
     "data": {
      "text/plain": [
       "{'class_weight': None, 'penalty': 'l2', 'tol': 0.0001}"
      ]
     },
     "execution_count": 23,
     "metadata": {},
     "output_type": "execute_result"
    }
   ],
   "source": [
    "lr2.best_params_"
   ]
  },
  {
   "cell_type": "markdown",
   "metadata": {},
   "source": [
    "##### Decision Tree"
   ]
  },
  {
   "cell_type": "code",
   "execution_count": 16,
   "metadata": {},
   "outputs": [],
   "source": [
    "dt = DecisionTreeClassifier()"
   ]
  },
  {
   "cell_type": "code",
   "execution_count": 17,
   "metadata": {},
   "outputs": [],
   "source": [
    "grid = {'criterion': ['gini', 'entropy'],\n",
    "       'max_depth': [5,15,30],\n",
    "       'min_samples_leaf': [1, 20, 40]}"
   ]
  },
  {
   "cell_type": "code",
   "execution_count": 18,
   "metadata": {},
   "outputs": [],
   "source": [
    "dtgs = GridSearchCV(dt, grid)"
   ]
  },
  {
   "cell_type": "code",
   "execution_count": 19,
   "metadata": {},
   "outputs": [],
   "source": [
    "val_recall, val_prec, val_acc, roc_auc, dt2 = history.kfold_validation(dtgs, 'DecTree 2 AllFeatures', ['sampling_weight'], X_train.drop('sampling_weight', axis=1).columns)"
   ]
  },
  {
   "cell_type": "code",
   "execution_count": 22,
   "metadata": {},
   "outputs": [
    {
     "data": {
      "text/plain": [
       "{'criterion': 'gini', 'max_depth': 15, 'min_samples_leaf': 40}"
      ]
     },
     "execution_count": 22,
     "metadata": {},
     "output_type": "execute_result"
    }
   ],
   "source": [
    "dt2.best_params_"
   ]
  },
  {
   "cell_type": "markdown",
   "metadata": {},
   "source": [
    "##### Random Forest"
   ]
  },
  {
   "cell_type": "code",
   "execution_count": 31,
   "metadata": {},
   "outputs": [],
   "source": [
    "rf = RandomForestClassifier()"
   ]
  },
  {
   "cell_type": "code",
   "execution_count": null,
   "metadata": {},
   "outputs": [],
   "source": [
    "grid = {'n_estimators': [40,100],\n",
    "       'max_depth': [5,20,None],\n",
    "       'min_samples_leaf': [1, 20], \n",
    "       'bootstrap': [True, False]}"
   ]
  },
  {
   "cell_type": "code",
   "execution_count": null,
   "metadata": {},
   "outputs": [],
   "source": [
    "rfgs = GridSearchCV(dt, grid)"
   ]
  },
  {
   "cell_type": "code",
   "execution_count": 37,
   "metadata": {},
   "outputs": [],
   "source": [
    "val_recall, val_prec, val_acc, roc_auc, rf2 = history.kfold_validation(rfgs, 'RandFor 2 AllFeatures', ['sampling_weight'], X_train.drop('sampling_weight', axis=1).columns)\n",
    "\n"
   ]
  },
  {
   "cell_type": "code",
   "execution_count": 81,
   "metadata": {},
   "outputs": [
    {
     "name": "stdout",
     "output_type": "stream",
     "text": [
      "{'bootstrap': False, 'max_depth': 20, 'min_samples_leaf': 1, 'n_estimators': 100}\n"
     ]
    }
   ],
   "source": [
    "rf2.best_params_"
   ]
  },
  {
   "cell_type": "markdown",
   "metadata": {},
   "source": [
    "***********\n",
    "### Feature Selection: Boruta & Phi-K"
   ]
  },
  {
   "cell_type": "markdown",
   "metadata": {},
   "source": [
    "**Phi-K** is a package that adapts Pearson's Correlation Coefficient to be able to accomodate not only categorical variables, but variables of mixed types. For the documentation, click [here](https://phik.readthedocs.io/en/latest/tutorials.html). "
   ]
  },
  {
   "cell_type": "code",
   "execution_count": 86,
   "metadata": {},
   "outputs": [],
   "source": [
    "import phik\n",
    "from src.eda import best_correlations"
   ]
  },
  {
   "cell_type": "markdown",
   "metadata": {},
   "source": [
    "We're going to start by examining the correlations amongst all the variables (including the target, `binary_drug`). The Phi-K coefficient, also denoted **Φ**, aims to correct incorrect \"asymptotic\" assumptions of statistical significance seen in the X-squared contingency test, and is also able to capture non-linear relationships."
   ]
  },
  {
   "cell_type": "code",
   "execution_count": 98,
   "metadata": {},
   "outputs": [],
   "source": [
    "corr_matrix = data.drop('sampling_weight', axis=1).phik_matrix(interval_cols=['yr_adminst'])"
   ]
  },
  {
   "cell_type": "code",
   "execution_count": 159,
   "metadata": {},
   "outputs": [],
   "source": [
    "corrs = best_correlations(corr_matrix)[1:]"
   ]
  },
  {
   "cell_type": "markdown",
   "metadata": {},
   "source": [
    "To validate these coefficient values, we'll use the `phik` method, `significance_matrix()`, to look for features with the highest significance:"
   ]
  },
  {
   "cell_type": "code",
   "execution_count": 85,
   "metadata": {},
   "outputs": [],
   "source": [
    "signif_matrix = data.drop('sampling_weight', axis=1).significance_matrix(interval_cols=['yr_adminst'])"
   ]
  },
  {
   "cell_type": "code",
   "execution_count": 99,
   "metadata": {},
   "outputs": [],
   "source": [
    "signifs = best_correlations(signif_matrix).iloc[61:80]"
   ]
  },
  {
   "cell_type": "code",
   "execution_count": 139,
   "metadata": {},
   "outputs": [
    {
     "data": {
      "text/html": [
       "<div>\n",
       "<style scoped>\n",
       "    .dataframe tbody tr th:only-of-type {\n",
       "        vertical-align: middle;\n",
       "    }\n",
       "\n",
       "    .dataframe tbody tr th {\n",
       "        vertical-align: top;\n",
       "    }\n",
       "\n",
       "    .dataframe thead th {\n",
       "        text-align: right;\n",
       "    }\n",
       "</style>\n",
       "<table border=\"1\" class=\"dataframe\">\n",
       "  <thead>\n",
       "    <tr style=\"text-align: right;\">\n",
       "      <th></th>\n",
       "      <th>cc</th>\n",
       "      <th>cc_signif</th>\n",
       "    </tr>\n",
       "    <tr>\n",
       "      <th>pairs</th>\n",
       "      <th></th>\n",
       "      <th></th>\n",
       "    </tr>\n",
       "  </thead>\n",
       "  <tbody>\n",
       "    <tr>\n",
       "      <th>(alcohol_yr_freq, alcohol_lifetime_freq)</th>\n",
       "      <td>0.915190</td>\n",
       "      <td>NaN</td>\n",
       "    </tr>\n",
       "    <tr>\n",
       "      <th>(academic_self_rating, intelligence_self_rating)</th>\n",
       "      <td>0.879218</td>\n",
       "      <td>NaN</td>\n",
       "    </tr>\n",
       "    <tr>\n",
       "      <th>(tech_school_after_hs, desire_tech_school)</th>\n",
       "      <td>0.853378</td>\n",
       "      <td>205.246271</td>\n",
       "    </tr>\n",
       "    <tr>\n",
       "      <th>(desire_2yrcoll, 2yrcoll_after_hs)</th>\n",
       "      <td>0.851864</td>\n",
       "      <td>NaN</td>\n",
       "    </tr>\n",
       "    <tr>\n",
       "      <th>(military_after_hs, desire_military)</th>\n",
       "      <td>0.848997</td>\n",
       "      <td>195.092427</td>\n",
       "    </tr>\n",
       "  </tbody>\n",
       "</table>\n",
       "</div>"
      ],
      "text/plain": [
       "                                                        cc   cc_signif\n",
       "pairs                                                                 \n",
       "(alcohol_yr_freq, alcohol_lifetime_freq)          0.915190         NaN\n",
       "(academic_self_rating, intelligence_self_rating)  0.879218         NaN\n",
       "(tech_school_after_hs, desire_tech_school)        0.853378  205.246271\n",
       "(desire_2yrcoll, 2yrcoll_after_hs)                0.851864         NaN\n",
       "(military_after_hs, desire_military)              0.848997  195.092427"
      ]
     },
     "execution_count": 139,
     "metadata": {},
     "output_type": "execute_result"
    }
   ],
   "source": [
    "feature_eval = corrs.join(signifs, on=corrs.index, rsuffix=\"_signif\")\n",
    "feature_eval.head()"
   ]
  },
  {
   "cell_type": "markdown",
   "metadata": {},
   "source": [
    "###### Plotting distribution of correlation values:"
   ]
  },
  {
   "cell_type": "code",
   "execution_count": 108,
   "metadata": {},
   "outputs": [
    {
     "data": {
      "text/plain": [
       "<AxesSubplot:xlabel='cc', ylabel='Count'>"
      ]
     },
     "execution_count": 108,
     "metadata": {},
     "output_type": "execute_result"
    },
    {
     "data": {
      "image/png": "[encoded data removed]",
      "text/plain": [
       "<Figure size 432x288 with 1 Axes>"
      ]
     },
     "metadata": {
      "needs_background": "light"
     },
     "output_type": "display_data"
    }
   ],
   "source": [
    "sns.histplot(feature_eval.phik)"
   ]
  },
  {
   "cell_type": "markdown",
   "metadata": {},
   "source": [
    "###### Distribution of significance values:"
   ]
  },
  {
   "cell_type": "code",
   "execution_count": 107,
   "metadata": {
    "scrolled": false
   },
   "outputs": [
    {
     "data": {
      "text/plain": [
       "<AxesSubplot:xlabel='cc_signif', ylabel='Count'>"
      ]
     },
     "execution_count": 107,
     "metadata": {},
     "output_type": "execute_result"
    },
    {
     "data": {
      "image/png": "[encoded data removed]",
      "text/plain": [
       "<Figure size 432x288 with 1 Axes>"
      ]
     },
     "metadata": {
      "needs_background": "light"
     },
     "output_type": "display_data"
    }
   ],
   "source": [
    "sns.histplot(feature_eval.phik_signif)"
   ]
  },
  {
   "cell_type": "code",
   "execution_count": 140,
   "metadata": {
    "scrolled": true
   },
   "outputs": [
    {
     "data": {
      "text/html": [
       "<div>\n",
       "<style scoped>\n",
       "    .dataframe tbody tr th:only-of-type {\n",
       "        vertical-align: middle;\n",
       "    }\n",
       "\n",
       "    .dataframe tbody tr th {\n",
       "        vertical-align: top;\n",
       "    }\n",
       "\n",
       "    .dataframe thead th {\n",
       "        text-align: right;\n",
       "    }\n",
       "</style>\n",
       "<table border=\"1\" class=\"dataframe\">\n",
       "  <thead>\n",
       "    <tr style=\"text-align: right;\">\n",
       "      <th></th>\n",
       "      <th>cc</th>\n",
       "      <th>cc_signif</th>\n",
       "    </tr>\n",
       "    <tr>\n",
       "      <th>pairs</th>\n",
       "      <th></th>\n",
       "      <th></th>\n",
       "    </tr>\n",
       "  </thead>\n",
       "  <tbody>\n",
       "    <tr>\n",
       "      <th>(tech_school_after_hs, desire_tech_school)</th>\n",
       "      <td>0.853378</td>\n",
       "      <td>205.246271</td>\n",
       "    </tr>\n",
       "    <tr>\n",
       "      <th>(2yrcoll_after_hs, tech_school_after_hs)</th>\n",
       "      <td>0.693962</td>\n",
       "      <td>201.490563</td>\n",
       "    </tr>\n",
       "    <tr>\n",
       "      <th>(alcohol_lifetime_freq, binary_drug)</th>\n",
       "      <td>0.503510</td>\n",
       "      <td>201.641182</td>\n",
       "    </tr>\n",
       "    <tr>\n",
       "      <th>(alcohol_yr_freq, evr_smoked_cig)</th>\n",
       "      <td>0.414042</td>\n",
       "      <td>204.328780</td>\n",
       "    </tr>\n",
       "  </tbody>\n",
       "</table>\n",
       "</div>"
      ],
      "text/plain": [
       "                                                  cc   cc_signif\n",
       "pairs                                                           \n",
       "(tech_school_after_hs, desire_tech_school)  0.853378  205.246271\n",
       "(2yrcoll_after_hs, tech_school_after_hs)    0.693962  201.490563\n",
       "(alcohol_lifetime_freq, binary_drug)        0.503510  201.641182\n",
       "(alcohol_yr_freq, evr_smoked_cig)           0.414042  204.328780"
      ]
     },
     "execution_count": 140,
     "metadata": {},
     "output_type": "execute_result"
    }
   ],
   "source": [
    "feature_eval[feature_eval['phik_signif']>200]"
   ]
  },
  {
   "cell_type": "code",
   "execution_count": 147,
   "metadata": {
    "scrolled": true
   },
   "outputs": [
    {
     "data": {
      "text/html": [
       "<div>\n",
       "<style scoped>\n",
       "    .dataframe tbody tr th:only-of-type {\n",
       "        vertical-align: middle;\n",
       "    }\n",
       "\n",
       "    .dataframe tbody tr th {\n",
       "        vertical-align: top;\n",
       "    }\n",
       "\n",
       "    .dataframe thead th {\n",
       "        text-align: right;\n",
       "    }\n",
       "</style>\n",
       "<table border=\"1\" class=\"dataframe\">\n",
       "  <thead>\n",
       "    <tr style=\"text-align: right;\">\n",
       "      <th></th>\n",
       "      <th>cc</th>\n",
       "      <th>cc_signif</th>\n",
       "    </tr>\n",
       "    <tr>\n",
       "      <th>pairs</th>\n",
       "      <th></th>\n",
       "      <th></th>\n",
       "    </tr>\n",
       "  </thead>\n",
       "  <tbody>\n",
       "    <tr>\n",
       "      <th>(desire_4yrcoll, 4yrcoll_after_hs)</th>\n",
       "      <td>0.776309</td>\n",
       "      <td>178.474915</td>\n",
       "    </tr>\n",
       "    <tr>\n",
       "      <th>(tech_school_after_hs, 4yrcoll_after_hs)</th>\n",
       "      <td>0.631231</td>\n",
       "      <td>168.859587</td>\n",
       "    </tr>\n",
       "    <tr>\n",
       "      <th>(cig_month_freq, alcohol_lifetime_freq)</th>\n",
       "      <td>0.496440</td>\n",
       "      <td>170.764672</td>\n",
       "    </tr>\n",
       "    <tr>\n",
       "      <th>(area_type, smsa)</th>\n",
       "      <td>0.463581</td>\n",
       "      <td>169.659827</td>\n",
       "    </tr>\n",
       "    <tr>\n",
       "      <th>(school_missed_ditched, skipped_class)</th>\n",
       "      <td>0.410799</td>\n",
       "      <td>166.408879</td>\n",
       "    </tr>\n",
       "    <tr>\n",
       "      <th>(evr_smoked_cig, alcohol_2weeks)</th>\n",
       "      <td>0.309633</td>\n",
       "      <td>150.490580</td>\n",
       "    </tr>\n",
       "  </tbody>\n",
       "</table>\n",
       "</div>"
      ],
      "text/plain": [
       "                                                cc   cc_signif\n",
       "pairs                                                         \n",
       "(desire_4yrcoll, 4yrcoll_after_hs)        0.776309  178.474915\n",
       "(tech_school_after_hs, 4yrcoll_after_hs)  0.631231  168.859587\n",
       "(cig_month_freq, alcohol_lifetime_freq)   0.496440  170.764672\n",
       "(area_type, smsa)                         0.463581  169.659827\n",
       "(school_missed_ditched, skipped_class)    0.410799  166.408879\n",
       "(evr_smoked_cig, alcohol_2weeks)          0.309633  150.490580"
      ]
     },
     "execution_count": 147,
     "metadata": {},
     "output_type": "execute_result"
    }
   ],
   "source": [
    "feature_eval[feature_eval['phik_signif']<180]"
   ]
  },
  {
   "cell_type": "code",
   "execution_count": 22,
   "metadata": {},
   "outputs": [],
   "source": [
    "col_mask = ['sampling_weight', 'region', 'evr_smoked_cig', 'alcohol_2weeks', '4yrcoll_after_hs', 'work_pay', \n",
    "           'has_father', 'avg_grade', 'drive_freq', '12mo_r_tcktd', 'relig_attd', 'rec_time']"
   ]
  },
  {
   "cell_type": "code",
   "execution_count": 23,
   "metadata": {},
   "outputs": [],
   "source": [
    "history.X_train = history.X_train[col_mask]"
   ]
  },
  {
   "cell_type": "code",
   "execution_count": 24,
   "metadata": {},
   "outputs": [],
   "source": [
    "lr_fs = LogisticRegression(max_iter=10000, C=0.1)"
   ]
  },
  {
   "cell_type": "code",
   "execution_count": 27,
   "metadata": {},
   "outputs": [],
   "source": [
    "val_recall, val_prec, val_acc, roc_auc, lr3 = history.kfold_validation(lr_fs, 'LogReg 3 PhikFeatures', ['sampling_weight'], col_mask[1:])"
   ]
  },
  {
   "cell_type": "code",
   "execution_count": 38,
   "metadata": {},
   "outputs": [],
   "source": [
    "X_tr_mp = pd.read_csv('data/modeling_data/X_train_mp.csv')\n",
    "y_tr_cm = pd.read_csv('data/modeling_data/y_train_cm.csv')"
   ]
  },
  {
   "cell_type": "code",
   "execution_count": 41,
   "metadata": {
    "scrolled": true
   },
   "outputs": [
    {
     "data": {
      "text/plain": [
       "<sklearn.metrics._plot.confusion_matrix.ConfusionMatrixDisplay at 0x7f837e54aa90>"
      ]
     },
     "execution_count": 41,
     "metadata": {},
     "output_type": "execute_result"
    },
    {
     "data": {
      "image/png": "[encoded data removed]",
      "text/plain": [
       "<Figure size 432x288 with 2 Axes>"
      ]
     },
     "metadata": {},
     "output_type": "display_data"
    }
   ],
   "source": [
    "plot_confusion_matrix(lr3, X_tr_mp, y_tr_cm)"
   ]
  },
  {
   "cell_type": "code",
   "execution_count": 52,
   "metadata": {},
   "outputs": [],
   "source": [
    "dt_fs = DecisionTreeClassifier(criterion='gini', max_depth=15, min_samples_leaf=40)"
   ]
  },
  {
   "cell_type": "code",
   "execution_count": 53,
   "metadata": {},
   "outputs": [],
   "source": [
    "val_recall, val_prec, val_acc, roc_auc, dt3 = history.kfold_validation(dt_fs, 'DecTree 3 PhikFeatures', ['sampling_weight'], col_mask[1:])"
   ]
  },
  {
   "cell_type": "code",
   "execution_count": 58,
   "metadata": {},
   "outputs": [
    {
     "data": {
      "text/plain": [
       "0.8441413063285866"
      ]
     },
     "execution_count": 58,
     "metadata": {},
     "output_type": "execute_result"
    }
   ],
   "source": [
    "from sklearn.metrics import accuracy_score, recall_score, roc_auc_score\n",
    "preds = dt3.predict(X_tr_mp)\n",
    "recall_score(y_tr_cm, preds)"
   ]
  },
  {
   "cell_type": "code",
   "execution_count": 59,
   "metadata": {},
   "outputs": [
    {
     "data": {
      "text/plain": [
       "0.3688058409099854"
      ]
     },
     "execution_count": 59,
     "metadata": {},
     "output_type": "execute_result"
    }
   ],
   "source": [
    "accuracy_score(y_tr_cm, preds)"
   ]
  },
  {
   "cell_type": "code",
   "execution_count": 60,
   "metadata": {},
   "outputs": [
    {
     "data": {
      "text/plain": [
       "0.46205325223097055"
      ]
     },
     "execution_count": 60,
     "metadata": {},
     "output_type": "execute_result"
    }
   ],
   "source": [
    "roc_auc_score(y_tr_cm,preds)"
   ]
  },
  {
   "cell_type": "code",
   "execution_count": 54,
   "metadata": {},
   "outputs": [
    {
     "data": {
      "text/plain": [
       "<sklearn.metrics._plot.confusion_matrix.ConfusionMatrixDisplay at 0x7f837eceb760>"
      ]
     },
     "execution_count": 54,
     "metadata": {},
     "output_type": "execute_result"
    },
    {
     "data": {
      "image/png": "[encoded data removed]",
      "text/plain": [
       "<Figure size 432x288 with 2 Axes>"
      ]
     },
     "metadata": {},
     "output_type": "display_data"
    }
   ],
   "source": [
    "plot_confusion_matrix(dt3, X_tr_mp, y_tr_cm)"
   ]
  },
  {
   "cell_type": "markdown",
   "metadata": {},
   "source": [
    "##### Time for our RandomForest!"
   ]
  },
  {
   "cell_type": "code",
   "execution_count": 25,
   "metadata": {},
   "outputs": [],
   "source": [
    "# !pip install boruta"
   ]
  },
  {
   "cell_type": "code",
   "execution_count": 26,
   "metadata": {},
   "outputs": [],
   "source": [
    "from boruta import BorutaPy"
   ]
  },
  {
   "cell_type": "code",
   "execution_count": 43,
   "metadata": {},
   "outputs": [],
   "source": [
    "rf_b = RandomForestClassifier(bootstrap=False, max_depth=20, min_samples_leaf=1)"
   ]
  },
  {
   "cell_type": "markdown",
   "metadata": {},
   "source": [
    "`BorutaPy` is a wrapper for the RandomForest algorithm, that attaches a \"randomized\" duplicate dataset to the original and ranks the original features. For a great article explaining the process, click [here](https://towardsdatascience.com/boruta-explained-the-way-i-wish-someone-explained-it-to-me-4489d70e154a)."
   ]
  },
  {
   "cell_type": "code",
   "execution_count": 110,
   "metadata": {},
   "outputs": [],
   "source": [
    "boruta = BorutaPy(\n",
    "                 estimator = rf_b,\n",
    "                 n_estimators = 'auto',\n",
    "                 max_iter = 25, \n",
    "                 perc = 80\n",
    "                 )"
   ]
  },
  {
   "cell_type": "code",
   "execution_count": 111,
   "metadata": {},
   "outputs": [
    {
     "data": {
      "text/plain": [
       "BorutaPy(estimator=RandomForestClassifier(bootstrap=False, max_depth=20,\n",
       "                                          n_estimators=67,\n",
       "                                          random_state=RandomState(MT19937) at 0x7FCE85894440),\n",
       "         max_iter=25, n_estimators='auto', perc=80,\n",
       "         random_state=RandomState(MT19937) at 0x7FCE85894440)"
      ]
     },
     "execution_count": 111,
     "metadata": {},
     "output_type": "execute_result"
    }
   ],
   "source": [
    "boruta.fit(np.array(X_tr_pp), np.array(y_tr_pp))"
   ]
  },
  {
   "cell_type": "markdown",
   "metadata": {},
   "source": [
    "Features in the \"green area\" have passed the maximum shadow feature importance \"threshold\". The threshold can be adjusted with the param `perc` (percentile). \n",
    "\n",
    "Features in the \"blue area\" are considered to be in the real of uncertainty, and ultimately up to the user to decided whether to keep or discard the feature."
   ]
  },
  {
   "cell_type": "code",
   "execution_count": 113,
   "metadata": {},
   "outputs": [],
   "source": [
    "green_area = X_tr_pp.columns[boruta.support_]\n",
    "blue_area = X_tr_pp.columns[boruta.support_weak_]"
   ]
  },
  {
   "cell_type": "code",
   "execution_count": 114,
   "metadata": {},
   "outputs": [
    {
     "name": "stdout",
     "output_type": "stream",
     "text": [
      "Columns within Area of Acceptance\n",
      " Index(['x0_2019', 'x1_Midwest', 'x1_NorthEast', 'x1_South', 'x3_0', 'x3_1',\n",
      "       'x4_1-2x', 'x4_Never', 'x4_Occasionally', 'x4_Regularly Now',\n",
      "       'x4_Regularly in Past', 'x5_1 Pack', 'x5_1-5 Cigarettes', 'x5_2 Packs',\n",
      "       'x5_<1 Cigarettes', 'x5_None', 'x6_0', 'x6_1-2X', 'x6_10-19X',\n",
      "       'x6_20-39X', 'x6_3-5X', 'x6_40+', 'x6_6-9X', 'x7_0', 'x7_1-2X',\n",
      "       'x7_10-19X', 'x7_20-39X', 'x7_3-5X', 'x7_40+', 'x7_6-9X', 'x8_3-5X',\n",
      "       'x8_6-9X', 'x8_None', 'x8_Once', 'x8_Twice', 'x9_Female', 'x9_Male',\n",
      "       'x10_Country', 'x10_Farm', 'x12_No', 'x12_Yes', 'x14_Yes',\n",
      "       'x15_Graduated HS', 'x16_Graduated HS', 'x17_Yes/Nearly All',\n",
      "       'x18_Conservative', 'x18_Liberal', 'x18_Very Liberal',\n",
      "       'x19_Every Week+', 'x19_Never', 'x19_Rarely', 'x20_A Little Important',\n",
      "       'x20_Not Important', 'x20_Pretty Important', 'x20_Very Important',\n",
      "       'x21_Above Average', 'x21_Average', 'x22_Average', 'x23_0', 'x24_0',\n",
      "       'x24_1', 'x25_0', 'x26_0', 'x26_1-2', 'x26_3-5', 'x27_A+',\n",
      "       'x30_Definitely Won't', 'x31_Definitely Will', 'x37_No', 'x40_0',\n",
      "       'x41_0', 'x42_1', 'x42_2', 'x42_4-5', 'x42_6-7', 'x43_Never', 'x45_0',\n",
      "       'x46_0', 'sampling_weight'],\n",
      "      dtype='object')\n",
      "Columns within Area of Irresolution\n",
      " Index([], dtype='object')\n"
     ]
    }
   ],
   "source": [
    "print(\"Columns within Area of Acceptance\\n\", green_area)\n",
    "print(\"Columns within Area of Irresolution\\n\", blue_area)"
   ]
  },
  {
   "cell_type": "markdown",
   "metadata": {},
   "source": [
    "This code here is going to help display the feature rankings in a more readable format."
   ]
  },
  {
   "cell_type": "code",
   "execution_count": 99,
   "metadata": {},
   "outputs": [],
   "source": [
    "def label_features():       \n",
    "    labeled_cols = []\n",
    "    cols = X_train.drop('sampling_weight', axis=1).columns\n",
    "    for i in range(len(X_tr_pp.columns)-1):\n",
    "        ind = X_tr_pp.columns[i].split('_')[0]\n",
    "        col = X_tr_pp.columns[i]\n",
    "\n",
    "        if ind == X_tr_pp.columns[i].split('_')[0]:\n",
    "            labeled_cols.append(cols[int(ind[1:])])\n",
    "    return labeled_cols"
   ]
  },
  {
   "cell_type": "code",
   "execution_count": 116,
   "metadata": {},
   "outputs": [
    {
     "data": {
      "text/plain": [
       "[('x0_2019', 1, 'yr_adminst'),\n",
       " ('x1_Midwest', 1, 'region'),\n",
       " ('x1_NorthEast', 1, 'region'),\n",
       " ('x1_South', 1, 'region'),\n",
       " ('x3_0', 1, 'smsa'),\n",
       " ('x3_1', 1, 'smsa'),\n",
       " ('x4_1-2x', 1, 'evr_smoked_cig'),\n",
       " ('x4_Never', 1, 'evr_smoked_cig'),\n",
       " ('x4_Occasionally', 1, 'evr_smoked_cig'),\n",
       " ('x4_Regularly Now', 1, 'evr_smoked_cig'),\n",
       " ('x4_Regularly in Past', 1, 'evr_smoked_cig'),\n",
       " ('x5_1 Pack', 1, 'cig_month_freq'),\n",
       " ('x5_1-5 Cigarettes', 1, 'cig_month_freq'),\n",
       " ('x5_2 Packs', 1, 'cig_month_freq'),\n",
       " ('x5_<1 Cigarettes', 1, 'cig_month_freq'),\n",
       " ('x5_None', 1, 'cig_month_freq'),\n",
       " ('x6_0', 1, 'alcohol_lifetime_freq'),\n",
       " ('x6_1-2X', 1, 'alcohol_lifetime_freq'),\n",
       " ('x6_10-19X', 1, 'alcohol_lifetime_freq'),\n",
       " ('x6_20-39X', 1, 'alcohol_lifetime_freq'),\n",
       " ('x6_3-5X', 1, 'alcohol_lifetime_freq'),\n",
       " ('x6_40+', 1, 'alcohol_lifetime_freq'),\n",
       " ('x6_6-9X', 1, 'alcohol_lifetime_freq'),\n",
       " ('x7_0', 1, 'alcohol_yr_freq'),\n",
       " ('x7_1-2X', 1, 'alcohol_yr_freq'),\n",
       " ('x7_10-19X', 1, 'alcohol_yr_freq'),\n",
       " ('x7_20-39X', 1, 'alcohol_yr_freq'),\n",
       " ('x7_3-5X', 1, 'alcohol_yr_freq'),\n",
       " ('x7_40+', 1, 'alcohol_yr_freq'),\n",
       " ('x7_6-9X', 1, 'alcohol_yr_freq'),\n",
       " ('x8_3-5X', 1, 'alcohol_2weeks'),\n",
       " ('x8_6-9X', 1, 'alcohol_2weeks'),\n",
       " ('x8_None', 1, 'alcohol_2weeks'),\n",
       " ('x8_Once', 1, 'alcohol_2weeks'),\n",
       " ('x8_Twice', 1, 'alcohol_2weeks'),\n",
       " ('x9_Female', 1, 'sex'),\n",
       " ('x9_Male', 1, 'sex'),\n",
       " ('x10_Country', 1, 'area_type'),\n",
       " ('x10_Farm', 1, 'area_type'),\n",
       " ('x12_No', 1, 'has_father'),\n",
       " ('x12_Yes', 1, 'has_father'),\n",
       " ('x14_Yes', 1, 'has_siblings'),\n",
       " ('x15_Graduated HS', 1, 'father_educ_lvl'),\n",
       " ('x16_Graduated HS', 1, 'mother_educ_lvl'),\n",
       " ('x17_Yes/Nearly All', 1, 'mother_employed'),\n",
       " ('x18_Conservative', 1, 'political_value_type'),\n",
       " ('x18_Liberal', 1, 'political_value_type'),\n",
       " ('x18_Very Liberal', 1, 'political_value_type'),\n",
       " ('x19_Every Week+', 1, 'relig_attd'),\n",
       " ('x19_Never', 1, 'relig_attd'),\n",
       " ('x19_Rarely', 1, 'relig_attd'),\n",
       " ('x20_A Little Important', 1, 'relig_importance'),\n",
       " ('x20_Not Important', 1, 'relig_importance'),\n",
       " ('x20_Pretty Important', 1, 'relig_importance'),\n",
       " ('x20_Very Important', 1, 'relig_importance'),\n",
       " ('x21_Above Average', 1, 'academic_self_rating'),\n",
       " ('x21_Average', 1, 'academic_self_rating'),\n",
       " ('x22_Average', 1, 'intelligence_self_rating'),\n",
       " ('x23_0', 1, 'school_missed_illness'),\n",
       " ('x24_0', 1, 'school_missed_ditched'),\n",
       " ('x24_1', 1, 'school_missed_ditched'),\n",
       " ('x25_0', 1, 'school_missed_other'),\n",
       " ('x26_0', 1, 'skipped_class'),\n",
       " ('x26_1-2', 1, 'skipped_class'),\n",
       " ('x26_3-5', 1, 'skipped_class'),\n",
       " ('x27_A+', 1, 'avg_grade'),\n",
       " (\"x30_Definitely Won't\", 1, '2yrcoll_after_hs'),\n",
       " ('x31_Definitely Will', 1, '4yrcoll_after_hs'),\n",
       " ('x37_No', 1, 'desire_gradsch'),\n",
       " ('x40_0', 1, 'work_pay'),\n",
       " ('x41_0', 1, 'other_income'),\n",
       " ('x42_1', 1, 'rec_time'),\n",
       " ('x42_2', 1, 'rec_time'),\n",
       " ('x42_4-5', 1, 'rec_time'),\n",
       " ('x42_6-7', 1, 'rec_time'),\n",
       " ('x43_Never', 1, 'date_freq'),\n",
       " ('x45_0', 1, '12mo_r_tcktd'),\n",
       " ('x46_0', 1, '12mo_accidents'),\n",
       " (\"x28_Definitely Won't\", 2, 'tech_school_after_hs'),\n",
       " ('x32_Probably Will', 3, 'gradsch_after_hs'),\n",
       " (\"x29_Definitely Won't\", 4, 'military_after_hs'),\n",
       " ('x10_Small Town', 5, 'area_type'),\n",
       " (\"x18_Don't Know\", 6, 'political_value_type'),\n",
       " ('x16_College Grad', 7, 'mother_educ_lvl'),\n",
       " ('x18_Moderate', 9, 'political_value_type'),\n",
       " ('x22_Above Average', 9, 'intelligence_self_rating'),\n",
       " ('x37_Yes', 9, 'desire_gradsch'),\n",
       " ('x14_No', 11, 'has_siblings'),\n",
       " ('x40_126-175', 12, 'work_pay'),\n",
       " ('x39_0', 13, 'work_hrs'),\n",
       " ('x32_Definitely Will', 14, 'gradsch_after_hs'),\n",
       " ('x45_1', 14, '12mo_r_tcktd'),\n",
       " ('x31_Probably Will', 17, '4yrcoll_after_hs'),\n",
       " ('x44_51-100', 17, 'drive_freq'),\n",
       " ('x46_1', 17, '12mo_accidents'),\n",
       " ('x24_2', 19, 'school_missed_ditched'),\n",
       " ('x42_<1', 20, 'rec_time'),\n",
       " ('x24_3', 21, 'school_missed_ditched'),\n",
       " ('x24_4-5', 22, 'school_missed_ditched'),\n",
       " (\"x32_Probably Won't\", 23, 'gradsch_after_hs'),\n",
       " ('x15_College Grad', 24, 'father_educ_lvl'),\n",
       " ('x42_3', 25, 'rec_time'),\n",
       " ('x44_11-50', 26, 'drive_freq'),\n",
       " ('x22_Slightly Above Average', 27, 'intelligence_self_rating'),\n",
       " ('x2_1', 28, 'msa'),\n",
       " ('x2_0', 29, 'msa'),\n",
       " ('x21_Slightly Above Average', 30, 'academic_self_rating'),\n",
       " ('x45_2', 31, '12mo_r_tcktd'),\n",
       " ('x16_Some College', 32, 'mother_educ_lvl'),\n",
       " ('x44_101-200', 32, 'drive_freq'),\n",
       " ('x40_76-125', 34, 'work_pay'),\n",
       " ('x27_B+', 35, 'avg_grade'),\n",
       " ('x27_A-', 36, 'avg_grade'),\n",
       " (\"x32_Definitely Won't\", 37, 'gradsch_after_hs'),\n",
       " ('x25_1', 38, 'school_missed_other'),\n",
       " ('x27_B-', 38, 'avg_grade'),\n",
       " ('x44_200+', 40, 'drive_freq'),\n",
       " ('x43_2-3x Week', 41, 'date_freq'),\n",
       " ('x17_Yes/Some', 42, 'mother_employed'),\n",
       " ('x15_Some College', 43, 'father_educ_lvl'),\n",
       " ('x27_B', 44, 'avg_grade'),\n",
       " ('x35_Yes', 44, 'desire_2yrcoll'),\n",
       " (\"x28_Probably Won't\", 46, 'tech_school_after_hs'),\n",
       " ('x19_1-2x Month', 47, 'relig_attd'),\n",
       " ('x43_2-3x Month', 47, 'date_freq'),\n",
       " ('x30_Probably Will', 49, '2yrcoll_after_hs'),\n",
       " ('x35_No', 50, 'desire_2yrcoll'),\n",
       " ('x36_Yes', 51, 'desire_4yrcoll'),\n",
       " ('x36_No', 52, 'desire_4yrcoll'),\n",
       " ('x17_No', 53, 'mother_employed'),\n",
       " ('x23_1', 55, 'school_missed_illness'),\n",
       " (\"x30_Probably Won't\", 55, '2yrcoll_after_hs'),\n",
       " ('x43_1x Month', 55, 'date_freq'),\n",
       " ('x30_Definitely Will', 57, '2yrcoll_after_hs'),\n",
       " ('x17_Yes/Most', 58, 'mother_employed'),\n",
       " ('x41_11-20', 59, 'other_income'),\n",
       " (\"x29_Probably Won't\", 60, 'military_after_hs'),\n",
       " ('x27_C+', 61, 'avg_grade'),\n",
       " ('x43_1x Week', 61, 'date_freq'),\n",
       " ('x10_Medium City', 63, 'area_type'),\n",
       " ('x39_16-20', 64, 'work_hrs'),\n",
       " ('x43_3x Week+', 64, 'date_freq'),\n",
       " ('x39_21-25', 66, 'work_hrs'),\n",
       " ('x16_Graduate School', 67, 'mother_educ_lvl'),\n",
       " ('x15_Graduate School', 68, 'father_educ_lvl'),\n",
       " ('x0_1995', 69, 'yr_adminst'),\n",
       " ('x34_No', 70, 'desire_military'),\n",
       " ('x34_Yes', 71, 'desire_military'),\n",
       " ('x10_Suburb of Medium City', 72, 'area_type'),\n",
       " ('x33_No', 72, 'desire_tech_school'),\n",
       " ('x33_Yes', 74, 'desire_tech_school'),\n",
       " ('x27_C', 75, 'avg_grade'),\n",
       " ('x41_21-35', 76, 'other_income'),\n",
       " ('x39_30+', 77, 'work_hrs'),\n",
       " ('x26_6-10', 78, 'skipped_class'),\n",
       " ('x23_2', 79, 'school_missed_illness'),\n",
       " ('x25_2', 79, 'school_missed_other'),\n",
       " ('x0_2015', 81, 'yr_adminst'),\n",
       " ('x13_No', 81, 'has_mother'),\n",
       " ('x13_Yes', 83, 'has_mother'),\n",
       " ('x11_Single', 85, 'marital_status'),\n",
       " ('x39_11-15', 85, 'work_hrs'),\n",
       " ('x44_0', 85, 'drive_freq'),\n",
       " ('x15_Some High School', 87, 'father_educ_lvl'),\n",
       " ('x40_176+', 88, 'work_pay'),\n",
       " ('x39_26-30', 89, 'work_hrs'),\n",
       " ('x28_Probably Will', 90, 'tech_school_after_hs'),\n",
       " ('x41_6-10', 91, 'other_income'),\n",
       " ('x40_51-75', 92, 'work_pay'),\n",
       " ('x0_1997', 93, 'yr_adminst'),\n",
       " ('x0_1998', 94, 'yr_adminst'),\n",
       " ('x28_Definitely Will', 95, 'tech_school_after_hs'),\n",
       " ('x0_1996', 96, 'yr_adminst'),\n",
       " ('x22_Far Above Average', 97, 'intelligence_self_rating'),\n",
       " ('x0_2014', 98, 'yr_adminst'),\n",
       " ('x39_6-10', 98, 'work_hrs'),\n",
       " (\"x31_Definitely Won't\", 100, '4yrcoll_after_hs'),\n",
       " ('x10_Large City', 101, 'area_type'),\n",
       " ('x10_Suburb of Large City', 102, 'area_type'),\n",
       " ('x23_3', 102, 'school_missed_illness'),\n",
       " ('x39_5 or less', 104, 'work_hrs'),\n",
       " (\"x31_Probably Won't\", 105, '4yrcoll_after_hs'),\n",
       " ('x41_36-50', 106, 'other_income'),\n",
       " ('x11_Engaged', 107, 'marital_status'),\n",
       " ('x18_Very Conservative', 108, 'political_value_type'),\n",
       " ('x16_Some High School', 109, 'mother_educ_lvl'),\n",
       " ('x29_Probably Will', 110, 'military_after_hs'),\n",
       " ('x46_2', 111, '12mo_accidents'),\n",
       " ('x21_Far Above Average', 112, 'academic_self_rating'),\n",
       " ('x0_2011', 113, 'yr_adminst'),\n",
       " ('x44_1-10', 114, 'drive_freq'),\n",
       " ('x10_City >500,000 (Vry Large)', 115, 'area_type'),\n",
       " ('x25_3', 115, 'school_missed_other'),\n",
       " ('x0_2012', 118, 'yr_adminst'),\n",
       " ('x29_Definitely Will', 118, 'military_after_hs'),\n",
       " ('x40_36-50', 118, 'work_pay'),\n",
       " ('x45_3', 118, '12mo_r_tcktd'),\n",
       " ('x0_2006', 121, 'yr_adminst'),\n",
       " ('x0_2010', 121, 'yr_adminst'),\n",
       " ('x23_4-5', 123, 'school_missed_illness'),\n",
       " ('x21_Slightly Below Avg', 124, 'academic_self_rating'),\n",
       " ('x0_2003', 125, 'yr_adminst'),\n",
       " ('x0_2002', 126, 'yr_adminst'),\n",
       " ('x0_2005', 126, 'yr_adminst'),\n",
       " ('x0_2007', 128, 'yr_adminst'),\n",
       " ('x0_2004', 129, 'yr_adminst'),\n",
       " ('x25_4-5', 130, 'school_missed_other'),\n",
       " ('x10_Suburb of Vry Lrg City', 131, 'area_type'),\n",
       " ('x41_1-5', 131, 'other_income'),\n",
       " ('x18_Radical', 133, 'political_value_type'),\n",
       " ('x0_2009', 134, 'yr_adminst'),\n",
       " ('x0_2008', 135, 'yr_adminst'),\n",
       " ('x22_Slightly Below Avg', 136, 'intelligence_self_rating'),\n",
       " ('x41_51-75', 136, 'other_income'),\n",
       " ('x38_Yes', 138, 'desire_none'),\n",
       " ('x38_No', 139, 'desire_none'),\n",
       " ('x0_1999', 140, 'yr_adminst'),\n",
       " ('x8_10+X', 141, 'alcohol_2weeks'),\n",
       " ('x41_76-125', 142, 'other_income'),\n",
       " ('x0_2000', 143, 'yr_adminst'),\n",
       " ('x40_21-35', 143, 'work_pay'),\n",
       " ('x0_2001', 145, 'yr_adminst'),\n",
       " ('x15_Grade School', 145, 'father_educ_lvl'),\n",
       " ('x41_126-175', 147, 'other_income'),\n",
       " ('x27_C-', 148, 'avg_grade'),\n",
       " ('x40_11-20', 149, 'work_pay'),\n",
       " ('x24_11+', 150, 'school_missed_ditched'),\n",
       " ('x45_4+', 151, '12mo_r_tcktd'),\n",
       " ('x11_Married', 152, 'marital_status'),\n",
       " ('x16_Grade School', 153, 'mother_educ_lvl'),\n",
       " ('x1_West', 154, 'region'),\n",
       " ('x24_6-10', 155, 'school_missed_ditched'),\n",
       " ('x40_6-10', 155, 'work_pay'),\n",
       " ('x23_6-10', 157, 'school_missed_illness'),\n",
       " ('x21_Below Avg', 158, 'academic_self_rating'),\n",
       " ('x25_6-10', 158, 'school_missed_other'),\n",
       " ('x26_11-20', 160, 'skipped_class'),\n",
       " ('x41_176+', 161, 'other_income'),\n",
       " ('x22_Below Avg', 162, 'intelligence_self_rating'),\n",
       " ('x46_3', 163, '12mo_accidents'),\n",
       " ('x11_Separated/Divorced', 164, 'marital_status'),\n",
       " ('x27_D', 165, 'avg_grade'),\n",
       " ('x26_21+', 166, 'skipped_class'),\n",
       " ('x25_11+', 167, 'school_missed_other'),\n",
       " ('x40_1-5', 168, 'work_pay'),\n",
       " ('x23_11+', 169, 'school_missed_illness'),\n",
       " ('x21_Far Below', 170, 'academic_self_rating'),\n",
       " ('x5_1.5 Packs', 171, 'cig_month_freq'),\n",
       " ('x22_Far Below', 172, 'intelligence_self_rating'),\n",
       " ('x46_4+', 173, '12mo_accidents'),\n",
       " ('x5_2+ Packs', 174, 'cig_month_freq')]"
      ]
     },
     "execution_count": 116,
     "metadata": {},
     "output_type": "execute_result"
    }
   ],
   "source": [
    "features = list(zip(X_tr_pp.columns, boruta.ranking_, label_features()))\n",
    "sorted(features, key=lambda x: x[1])"
   ]
  },
  {
   "cell_type": "code",
   "execution_count": 45,
   "metadata": {},
   "outputs": [],
   "source": [
    "rf_b = RandomForestClassifier(bootstrap=False, max_depth=20, min_samples_leaf=1, n_estimators=67)"
   ]
  },
  {
   "cell_type": "code",
   "execution_count": 46,
   "metadata": {},
   "outputs": [],
   "source": [
    "history.X_train = X_train\n",
    "history.y_train = y_train"
   ]
  },
  {
   "cell_type": "code",
   "execution_count": 48,
   "metadata": {},
   "outputs": [],
   "source": [
    "val_recall, val_prec, val_acc, roc_auc, rf3 = history.kfold_validation(rf_b, 'RandFor 3 Boruta', ['sampling_weight'], X_train.drop('sampling_weight', axis=1).columns, feature_mask=True)"
   ]
  },
  {
   "cell_type": "code",
   "execution_count": 69,
   "metadata": {
    "scrolled": true
   },
   "outputs": [
    {
     "name": "stdout",
     "output_type": "stream",
     "text": [
      "Recall:\n",
      "0.7053596765006076\n",
      "0.7092368757779071\n",
      "0.6273912691106032\n",
      "\n",
      "Accuracy:\n",
      "0.800773468046516\n",
      "0.8015211664123942\n",
      "0.7740288474019903\n"
     ]
    }
   ],
   "source": [
    "print('Recall:')\n",
    "print(np.mean(history.history['LogReg 1 AllFeatures']['recall']))\n",
    "print(np.mean(history.history['LogReg 2 AllFeatures']['recall']))\n",
    "print(np.mean(history.history['LogReg 3 PhikFeatures']['recall']))\n",
    "print('\\nAccuracy:')\n",
    "print(np.mean(history.history['LogReg 1 AllFeatures']['accuracy']))\n",
    "print(np.mean(history.history['LogReg 2 AllFeatures']['accuracy']))\n",
    "print(np.mean(history.history['LogReg 3 PhikFeatures']['accuracy']))"
   ]
  },
  {
   "cell_type": "code",
   "execution_count": 70,
   "metadata": {},
   "outputs": [
    {
     "name": "stdout",
     "output_type": "stream",
     "text": [
      "Recall:\n",
      "0.6137241462122492\n",
      "0.6785599037040121\n",
      "0.844\n",
      "\n",
      "Accuracy:\n",
      "0.7064097011664019\n",
      "0.7772956061232417\n",
      "0.368\n"
     ]
    }
   ],
   "source": [
    "print('Recall:')\n",
    "print(np.mean(history.history['DecTree 1 AllFeatures']['recall']))\n",
    "print(np.mean(history.history['DecTree 2 AllFeatures']['recall']))\n",
    "print(np.mean(history.history['DecTree 3 PhikFeatures']['recall']))\n",
    "print('\\nAccuracy:')\n",
    "print(np.mean(history.history['DecTree 1 AllFeatures']['accuracy']))\n",
    "print(np.mean(history.history['DecTree 2 AllFeatures']['accuracy']))\n",
    "print(np.mean(history.history['DecTree 3 PhikFeatures']['accuracy']))"
   ]
  },
  {
   "cell_type": "code",
   "execution_count": 72,
   "metadata": {},
   "outputs": [
    {
     "name": "stdout",
     "output_type": "stream",
     "text": [
      "Recall:\n",
      "0.6917706582624985\n",
      "0.6911416052617457\n",
      "0.6926038085203876\n",
      "\n",
      "Accuracy:\n",
      "0.7924293047145735\n",
      "0.7923013342779548\n",
      "0.7911304407707604\n"
     ]
    }
   ],
   "source": [
    "print('Recall:')\n",
    "print(np.mean(history.history['RandFor 1 AllFeatures']['recall']))\n",
    "print(np.mean(history.history['RandFor 2 AllFeatures']['recall']))\n",
    "print(np.mean(history.history['RandFor 3 Boruta']['recall']))\n",
    "print('\\nAccuracy:')\n",
    "print(np.mean(history.history['RandFor 1 AllFeatures']['accuracy']))\n",
    "print(np.mean(history.history['RandFor 2 AllFeatures']['accuracy']))\n",
    "print(np.mean(history.history['RandFor 3 Boruta']['accuracy']))"
   ]
  },
  {
   "cell_type": "code",
   "execution_count": 81,
   "metadata": {},
   "outputs": [
    {
     "name": "stdout",
     "output_type": "stream",
     "text": [
      "XGB Score:\n",
      "\n",
      " 0.766629314\n"
     ]
    }
   ],
   "source": [
    "print('XGB Score:\\n\\n', np.mean(history.history['XGB 1 PhikFeatures']['test_score']))"
   ]
  },
  {
   "cell_type": "code",
   "execution_count": 87,
   "metadata": {},
   "outputs": [
    {
     "data": {
      "text/plain": [
       "LogisticRegression(C=0.1, max_iter=10000)"
      ]
     },
     "execution_count": 87,
     "metadata": {},
     "output_type": "execute_result"
    }
   ],
   "source": [
    "final = LogisticRegression(max_iter=10000, C=0.1)\n",
    "final.fit(X_tr_pp, y_tr_pp)"
   ]
  },
  {
   "cell_type": "code",
   "execution_count": 101,
   "metadata": {},
   "outputs": [],
   "source": [
    "from sklearn.metrics import accuracy_score, recall_score, roc_auc_score"
   ]
  },
  {
   "cell_type": "code",
   "execution_count": 102,
   "metadata": {},
   "outputs": [],
   "source": [
    "tr_preds = final.predict(X_tr_pp)"
   ]
  },
  {
   "cell_type": "code",
   "execution_count": 88,
   "metadata": {
    "scrolled": true
   },
   "outputs": [
    {
     "data": {
      "text/plain": [
       "<sklearn.metrics._plot.confusion_matrix.ConfusionMatrixDisplay at 0x7f839bb72730>"
      ]
     },
     "execution_count": 88,
     "metadata": {},
     "output_type": "execute_result"
    },
    {
     "data": {
      "image/png": "[encoded data removed]",
      "text/plain": [
       "<Figure size 432x288 with 2 Axes>"
      ]
     },
     "metadata": {},
     "output_type": "display_data"
    }
   ],
   "source": [
    "plot_confusion_matrix(final, X_tr_pp, y_tr_pp)"
   ]
  },
  {
   "cell_type": "code",
   "execution_count": 104,
   "metadata": {
    "scrolled": true
   },
   "outputs": [
    {
     "data": {
      "text/plain": [
       "0.8010390837170859"
      ]
     },
     "execution_count": 104,
     "metadata": {},
     "output_type": "execute_result"
    }
   ],
   "source": [
    "accuracy_score(y_tr_pp, tr_preds)"
   ]
  },
  {
   "cell_type": "code",
   "execution_count": 105,
   "metadata": {},
   "outputs": [
    {
     "data": {
      "text/plain": [
       "0.7056266916510514"
      ]
     },
     "execution_count": 105,
     "metadata": {},
     "output_type": "execute_result"
    }
   ],
   "source": [
    "recall_score(y_tr_pp, tr_preds)"
   ]
  },
  {
   "cell_type": "code",
   "execution_count": 90,
   "metadata": {},
   "outputs": [],
   "source": [
    "X_te_pp = pd.read_csv('data/modeling_data/X_te_pp.csv')\n",
    "y_te_pp = pd.read_csv('data/modeling_data/y_te_pp.csv')"
   ]
  },
  {
   "cell_type": "code",
   "execution_count": 103,
   "metadata": {},
   "outputs": [],
   "source": [
    "te_preds = final.predict(X_te_pp)"
   ]
  },
  {
   "cell_type": "code",
   "execution_count": 91,
   "metadata": {
    "scrolled": true
   },
   "outputs": [
    {
     "data": {
      "text/plain": [
       "<sklearn.metrics._plot.confusion_matrix.ConfusionMatrixDisplay at 0x7f837ec84a60>"
      ]
     },
     "execution_count": 91,
     "metadata": {},
     "output_type": "execute_result"
    },
    {
     "data": {
      "image/png": "[encoded data removed]",
      "text/plain": [
       "<Figure size 432x288 with 2 Axes>"
      ]
     },
     "metadata": {},
     "output_type": "display_data"
    }
   ],
   "source": [
    "plot_confusion_matrix(final, X_te_pp, y_te_pp)"
   ]
  },
  {
   "cell_type": "code",
   "execution_count": 106,
   "metadata": {
    "scrolled": true
   },
   "outputs": [
    {
     "data": {
      "text/plain": [
       "0.8060770653756839"
      ]
     },
     "execution_count": 106,
     "metadata": {},
     "output_type": "execute_result"
    }
   ],
   "source": [
    "accuracy_score(y_te_pp, te_preds)"
   ]
  },
  {
   "cell_type": "code",
   "execution_count": 107,
   "metadata": {},
   "outputs": [
    {
     "data": {
      "text/plain": [
       "0.7203495630461922"
      ]
     },
     "execution_count": 107,
     "metadata": {},
     "output_type": "execute_result"
    }
   ],
   "source": [
    "recall_score(y_te_pp, te_preds)"
   ]
  },
  {
   "cell_type": "markdown",
   "metadata": {},
   "source": [
    "### Feature Importances"
   ]
  },
  {
   "cell_type": "markdown",
   "metadata": {},
   "source": [
    "###### TOP 3 Postive Features:\n",
    "* `YEAR=2019` - `1.122`\n",
    "* `YEAR=2015` - `0.714`\n",
    "* `Consumed Alcohol 40+ times in the past year` - `0.655`\n",
    "\n",
    "###### TOP 3 Negative Features:\n",
    "* `Consumed NO Alcohol in the past year` - `-1.044`\n",
    "* `Never Smoked Cigarette` - `-1`\n",
    "* `Grew up on a Farm` - `-0.577`"
   ]
  },
  {
   "cell_type": "markdown",
   "metadata": {},
   "source": [
    "Features are sorted in ascending order..."
   ]
  },
  {
   "cell_type": "code",
   "execution_count": 100,
   "metadata": {},
   "outputs": [
    {
     "data": {
      "text/plain": [
       "[('x7_0', -1.0444238919067246, 'alcohol_yr_freq'),\n",
       " ('x4_Never', -1.0002862094560194, 'evr_smoked_cig'),\n",
       " ('x10_Farm', -0.5769442716134606, 'area_type'),\n",
       " ('x6_0', -0.5292576884390817, 'alcohol_lifetime_freq'),\n",
       " ('x0_1995', -0.5172839065439283, 'yr_adminst'),\n",
       " ('x7_1-2X', -0.4827856151482851, 'alcohol_yr_freq'),\n",
       " ('x0_1998', -0.4688949744583935, 'yr_adminst'),\n",
       " ('x27_A+', -0.45049541635200846, 'avg_grade'),\n",
       " ('x5_None', -0.42471051161853496, 'cig_month_freq'),\n",
       " ('x0_1999', -0.41391917672518236, 'yr_adminst'),\n",
       " ('x0_1996', -0.40899752439927467, 'yr_adminst'),\n",
       " ('x0_2000', -0.4074725664497595, 'yr_adminst'),\n",
       " ('x0_1997', -0.3904223239703652, 'yr_adminst'),\n",
       " ('x18_Very Conservative', -0.3901011549128239, 'political_value_type'),\n",
       " ('x26_0', -0.323227102650196, 'skipped_class'),\n",
       " ('x6_1-2X', -0.28232717574067656, 'alcohol_lifetime_freq'),\n",
       " ('x27_A-', -0.27054340887020634, 'avg_grade'),\n",
       " ('x24_0', -0.26408151037198024, 'school_missed_ditched'),\n",
       " ('x8_None', -0.2575588733897159, 'alcohol_2weeks'),\n",
       " ('x18_Conservative', -0.23121201776125122, 'political_value_type'),\n",
       " ('x46_0', -0.23056733034192914, '12mo_accidents'),\n",
       " ('x0_2001', -0.21024838804703644, 'yr_adminst'),\n",
       " ('x29_Definitely Will', -0.19819423790434768, 'military_after_hs'),\n",
       " ('x22_Far Below', -0.1832556679458219, 'intelligence_self_rating'),\n",
       " ('x0_2002', -0.1790786555002979, 'yr_adminst'),\n",
       " ('x27_B+', -0.17024542719522526, 'avg_grade'),\n",
       " ('x4_1-2x', -0.1545562364065721, 'evr_smoked_cig'),\n",
       " ('x42_1', -0.15434314241465985, 'rec_time'),\n",
       " ('x45_0', -0.1533191322660309, '12mo_r_tcktd'),\n",
       " ('x19_Every Week+', -0.15202695345453304, 'relig_attd'),\n",
       " ('x20_Very Important', -0.14710787676193562, 'relig_importance'),\n",
       " ('x44_200+', -0.14636685398818383, 'drive_freq'),\n",
       " ('x0_2004', -0.14623290396490563, 'yr_adminst'),\n",
       " ('x42_<1', -0.1456028725767086, 'rec_time'),\n",
       " ('x10_Country', -0.13996009837845255, 'area_type'),\n",
       " ('x0_2003', -0.13058825166403948, 'yr_adminst'),\n",
       " ('x0_2007', -0.1253894311012046, 'yr_adminst'),\n",
       " ('x22_Slightly Below Avg', -0.12329894007870888, 'intelligence_self_rating'),\n",
       " ('x6_3-5X', -0.12262796197554499, 'alcohol_lifetime_freq'),\n",
       " ('x23_0', -0.11931194791786333, 'school_missed_illness'),\n",
       " ('x5_<1 Cigarettes', -0.11832271899694295, 'cig_month_freq'),\n",
       " ('x46_1', -0.11445578227716466, '12mo_accidents'),\n",
       " ('x7_3-5X', -0.10702167159415683, 'alcohol_yr_freq'),\n",
       " ('x11_Married', -0.10542725744898765, 'marital_status'),\n",
       " (\"x18_Don't Know\", -0.10416037807629933, 'political_value_type'),\n",
       " ('x24_1', -0.10004602166582474, 'school_missed_ditched'),\n",
       " ('x1_Midwest', -0.09789358699910064, 'region'),\n",
       " ('x16_Grade School', -0.09754866732977949, 'mother_educ_lvl'),\n",
       " ('x12_Yes', -0.09736463953753875, 'has_father'),\n",
       " ('x0_2006', -0.09622605477332417, 'yr_adminst'),\n",
       " ('x16_Graduated HS', -0.09276382490131338, 'mother_educ_lvl'),\n",
       " ('x8_10+X', -0.09163843599645877, 'alcohol_2weeks'),\n",
       " ('x39_6-10', -0.08836832947491889, 'work_hrs'),\n",
       " ('x38_No', -0.08711230056320729, 'desire_none'),\n",
       " ('x3_0', -0.08631244308385001, 'smsa'),\n",
       " ('x25_6-10', -0.08614153417994991, 'school_missed_other'),\n",
       " ('x22_Below Avg', -0.08237736749285114, 'intelligence_self_rating'),\n",
       " (\"x31_Definitely Won't\", -0.08100170554029455, '4yrcoll_after_hs'),\n",
       " ('x27_B', -0.0793575983666155, 'avg_grade'),\n",
       " ('x41_0', -0.07743765624342994, 'other_income'),\n",
       " ('x40_1-5', -0.07573809097721791, 'work_pay'),\n",
       " ('x18_Moderate', -0.07468520485551473, 'political_value_type'),\n",
       " ('x42_2', -0.07429463996084654, 'rec_time'),\n",
       " ('x22_Average', -0.06546797610309578, 'intelligence_self_rating'),\n",
       " ('x25_3', -0.06225489235778328, 'school_missed_other'),\n",
       " ('x32_Definitely Will', -0.062150299410017165, 'gradsch_after_hs'),\n",
       " ('x43_Never', -0.062067474088192076, 'date_freq'),\n",
       " ('x13_Yes', -0.05772109179116275, 'has_mother'),\n",
       " ('x41_6-10', -0.056964986101052106, 'other_income'),\n",
       " ('x43_3x Week+', -0.05659899692882359, 'date_freq'),\n",
       " ('x36_No', -0.045451767072860035, 'desire_4yrcoll'),\n",
       " ('x20_Pretty Important', -0.04541442152437895, 'relig_importance'),\n",
       " ('x17_No', -0.044954799893322316, 'mother_employed'),\n",
       " ('x21_Far Above Average', -0.04452402471446309, 'academic_self_rating'),\n",
       " ('x26_1-2', -0.04346185428308131, 'skipped_class'),\n",
       " ('x0_2008', -0.04216647310482258, 'yr_adminst'),\n",
       " ('x2_1', -0.04037455947241352, 'msa'),\n",
       " ('x31_Definitely Will', -0.03941031106976739, '4yrcoll_after_hs'),\n",
       " ('x37_No', -0.03913467557878213, 'desire_gradsch'),\n",
       " ('x23_1', -0.03761304323702738, 'school_missed_illness'),\n",
       " ('x39_0', -0.03752240396449846, 'work_hrs'),\n",
       " ('x28_Definitely Will', -0.037424033671166285, 'tech_school_after_hs'),\n",
       " ('x15_Grade School', -0.03615301948775429, 'father_educ_lvl'),\n",
       " ('x39_5 or less', -0.03475352196964149, 'work_hrs'),\n",
       " ('x39_30+', -0.029852746637921843, 'work_hrs'),\n",
       " ('x41_21-35', -0.0294576056733512, 'other_income'),\n",
       " ('x8_Once', -0.02806605868419583, 'alcohol_2weeks'),\n",
       " ('x40_176+', -0.027632786026221167, 'work_pay'),\n",
       " ('x44_101-200', -0.027438206358857478, 'drive_freq'),\n",
       " ('x28_Probably Will', -0.026648986338004384, 'tech_school_after_hs'),\n",
       " ('x43_2-3x Week', -0.02607316220155871, 'date_freq'),\n",
       " ('x34_Yes', -0.024998391616829287, 'desire_military'),\n",
       " ('x11_Engaged', -0.024169439164170584, 'marital_status'),\n",
       " ('x21_Far Below', -0.02245468666815223, 'academic_self_rating'),\n",
       " ('x41_76-125', -0.021884958754372952, 'other_income'),\n",
       " ('x33_Yes', -0.021121532539523483, 'desire_tech_school'),\n",
       " ('x1_South', -0.02051268634484258, 'region'),\n",
       " ('x14_Yes', -0.01575807044556364, 'has_siblings'),\n",
       " (\"x30_Definitely Won't\", -0.01547207304578854, '2yrcoll_after_hs'),\n",
       " ('x40_0', -0.013350168890570968, 'work_pay'),\n",
       " ('x0_2005', -0.01307563372590367, 'yr_adminst'),\n",
       " ('x40_11-20', -0.010959512043609083, 'work_pay'),\n",
       " ('x15_College Grad', -0.009736445595105593, 'father_educ_lvl'),\n",
       " ('x19_1-2x Month', -0.009174332963048367, 'relig_attd'),\n",
       " ('x17_Yes/Some', -0.00914328755531431, 'mother_employed'),\n",
       " ('x35_Yes', -0.008417935734313505, 'desire_2yrcoll'),\n",
       " (\"x30_Probably Won't\", -0.008217147222622236, '2yrcoll_after_hs'),\n",
       " ('x21_Above Average', -0.005453451282690494, 'academic_self_rating'),\n",
       " ('x21_Average', -0.005145875970308614, 'academic_self_rating'),\n",
       " ('x24_6-10', -0.00457337799706087, 'school_missed_ditched'),\n",
       " ('x30_Definitely Will', -0.004246795209749706, '2yrcoll_after_hs'),\n",
       " ('x46_2', -0.0031054641835899397, '12mo_accidents'),\n",
       " ('x32_Probably Will', -0.00210842412208829, 'gradsch_after_hs'),\n",
       " ('x9_Male', -0.00193584174422137, 'sex'),\n",
       " ('x23_11+', -0.0016974198734483691, 'school_missed_illness'),\n",
       " ('x40_126-175', -0.0005517280413543515, 'work_pay'),\n",
       " ('x9_Female', 0.0007508064075052652, 'sex'),\n",
       " ('x15_Some College', 0.0009343114217596406, 'father_educ_lvl'),\n",
       " ('x40_21-35', 0.0016161742216206428, 'work_pay'),\n",
       " ('x23_2', 0.0019243699694299224, 'school_missed_illness'),\n",
       " ('x15_Graduated HS', 0.002905859089823506, 'father_educ_lvl'),\n",
       " ('x41_11-20', 0.0036311667278919966, 'other_income'),\n",
       " ('x25_0', 0.003871537083730752, 'school_missed_other'),\n",
       " ('x45_4+', 0.0044213203987085396, '12mo_r_tcktd'),\n",
       " ('x21_Slightly Above Average', 0.004601774572857727, 'academic_self_rating'),\n",
       " ('x24_3', 0.0050222024238184585, 'school_missed_ditched'),\n",
       " ('x24_2', 0.005187145457705919, 'school_missed_ditched'),\n",
       " ('x35_No', 0.007232900397461582, 'desire_2yrcoll'),\n",
       " ('x40_36-50', 0.008857992677376535, 'work_pay'),\n",
       " ('x39_11-15', 0.009484852302483611, 'work_hrs'),\n",
       " ('x21_Below Avg', 0.011009259561859634, 'academic_self_rating'),\n",
       " ('x14_No', 0.014573035108701815, 'has_siblings'),\n",
       " (\"x28_Probably Won't\", 0.014713201152559842, 'tech_school_after_hs'),\n",
       " ('x15_Some High School', 0.015166312368676669, 'father_educ_lvl'),\n",
       " ('x40_76-125', 0.01752105502116157, 'work_pay'),\n",
       " ('x41_36-50', 0.017673451088462445, 'other_income'),\n",
       " ('x40_51-75', 0.017982267650243917, 'work_pay'),\n",
       " (\"x29_Definitely Won't\", 0.019189793333349702, 'military_after_hs'),\n",
       " ('x41_1-5', 0.019471486603714616, 'other_income'),\n",
       " ('x25_4-5', 0.0195060875199164, 'school_missed_other'),\n",
       " ('x42_3', 0.019724120699187577, 'rec_time'),\n",
       " ('x33_No', 0.01993649720277798, 'desire_tech_school'),\n",
       " ('x44_51-100', 0.020014455965393085, 'drive_freq'),\n",
       " (\"x32_Probably Won't\", 0.020755405857058068, 'gradsch_after_hs'),\n",
       " ('x45_1', 0.021274218938496545, '12mo_r_tcktd'),\n",
       " ('x34_No', 0.023813356279938223, 'desire_military'),\n",
       " ('x19_Rarely', 0.0244369008301906, 'relig_attd'),\n",
       " ('x17_Yes/Nearly All', 0.02468469902666867, 'mother_employed'),\n",
       " ('x16_College Grad', 0.025612106813128675, 'mother_educ_lvl'),\n",
       " ('x15_Graduate School', 0.025697946865729866, 'father_educ_lvl'),\n",
       " ('x30_Probably Will', 0.02675098014134121, '2yrcoll_after_hs'),\n",
       " ('x41_51-75', 0.02726402990578019, 'other_income'),\n",
       " ('x17_Yes/Most', 0.02822835308517007, 'mother_employed'),\n",
       " ('x11_Single', 0.028302484692313706, 'marital_status'),\n",
       " ('x45_2', 0.028361925686169322, '12mo_r_tcktd'),\n",
       " ('x5_1-5 Cigarettes', 0.02877487254152604, 'cig_month_freq'),\n",
       " ('x23_6-10', 0.030829740245924594, 'school_missed_illness'),\n",
       " ('x43_1x Week', 0.030967171917112176, 'date_freq'),\n",
       " ('x16_Some College', 0.031221180700548586, 'mother_educ_lvl'),\n",
       " ('x39_16-20', 0.031626712408969686, 'work_hrs'),\n",
       " ('x25_11+', 0.03370081008108379, 'school_missed_other'),\n",
       " ('x43_1x Month', 0.03663157499324181, 'date_freq'),\n",
       " ('x37_Yes', 0.03794964024200434, 'desire_gradsch'),\n",
       " ('x2_0', 0.03918952413555341, 'msa'),\n",
       " ('x20_A Little Important', 0.04061670369395791, 'relig_importance'),\n",
       " ('x25_2', 0.041462462056206455, 'school_missed_other'),\n",
       " ('x44_1-10', 0.04185687177534901, 'drive_freq'),\n",
       " ('x10_Suburb of Vry Lrg City', 0.04193646603508071, 'area_type'),\n",
       " (\"x32_Definitely Won't\", 0.04231828233828008, 'gradsch_after_hs'),\n",
       " ('x39_26-30', 0.04327008102071022, 'work_hrs'),\n",
       " ('x26_11-20', 0.04363113012493004, 'skipped_class'),\n",
       " ('x36_Yes', 0.044266731735955245, 'desire_4yrcoll'),\n",
       " ('x23_4-5', 0.045794821524393896, 'school_missed_illness'),\n",
       " ('x16_Graduate School', 0.04644397940792976, 'mother_educ_lvl'),\n",
       " ('x22_Slightly Above Average',\n",
       "  0.04794702259280192,\n",
       "  'intelligence_self_rating'),\n",
       " (\"x28_Definitely Won't\", 0.04817478351990988, 'tech_school_after_hs'),\n",
       " ('x25_1', 0.048670494459961515, 'school_missed_other'),\n",
       " ('x0_2009', 0.0487924078726151, 'yr_adminst'),\n",
       " (\"x31_Probably Won't\", 0.04950736605902609, '4yrcoll_after_hs'),\n",
       " ('x44_11-50', 0.049703535692345986, 'drive_freq'),\n",
       " ('x27_B-', 0.04993450924405891, 'avg_grade'),\n",
       " ('x6_6-9X', 0.05271648562867177, 'alcohol_lifetime_freq'),\n",
       " ('x1_West', 0.055134574774039984, 'region'),\n",
       " ('x8_Twice', 0.055320315313012805, 'alcohol_2weeks'),\n",
       " ('x13_No', 0.056536056454419295, 'has_mother'),\n",
       " ('x41_126-175', 0.05800795408205347, 'other_income'),\n",
       " ('x41_176+', 0.05851208302749662, 'other_income'),\n",
       " ('x10_Small Town', 0.06069580288307936, 'area_type'),\n",
       " ('x21_Slightly Below Avg', 0.06078196916412549, 'academic_self_rating'),\n",
       " ('x44_0', 0.06104516157714231, 'drive_freq'),\n",
       " ('x26_6-10', 0.06156932263130565, 'skipped_class'),\n",
       " (\"x29_Probably Won't\", 0.06181232879703695, 'military_after_hs'),\n",
       " ('x5_2 Packs', 0.06200534642034228, 'cig_month_freq'),\n",
       " ('x1_NorthEast', 0.06208666323311126, 'region'),\n",
       " ('x31_Probably Will', 0.069719615214191, '4yrcoll_after_hs'),\n",
       " ('x10_City >500,000 (Vry Large)', 0.07032042937452752, 'area_type'),\n",
       " ('x43_2-3x Month', 0.07595585097131853, 'date_freq'),\n",
       " ('x23_3', 0.07888844395180135, 'school_missed_illness'),\n",
       " ('x40_6-10', 0.08106976107172532, 'work_pay'),\n",
       " ('x26_3-5', 0.08388953515417745, 'skipped_class'),\n",
       " ('x3_1', 0.08512740774722437, 'smsa'),\n",
       " ('x16_Some High School', 0.08585018997265502, 'mother_educ_lvl'),\n",
       " ('x38_Yes', 0.08592726522635022, 'desire_none'),\n",
       " ('x24_4-5', 0.09453808536879092, 'school_missed_ditched'),\n",
       " ('x12_No', 0.09617960420063842, 'has_father'),\n",
       " ('x10_Suburb of Large City', 0.09745878507272022, 'area_type'),\n",
       " ('x45_3', 0.09807663190584615, '12mo_r_tcktd'),\n",
       " ('x11_Separated/Divorced', 0.10010917658397003, 'marital_status'),\n",
       " ('x5_1.5 Packs', 0.1028510494399794, 'cig_month_freq'),\n",
       " ('x18_Liberal', 0.1035504505824983, 'political_value_type'),\n",
       " ('x39_21-25', 0.10493032097795106, 'work_hrs'),\n",
       " ('x29_Probably Will', 0.11600708043717245, 'military_after_hs'),\n",
       " ('x27_C+', 0.11637358278822217, 'avg_grade'),\n",
       " ('x10_Large City', 0.11831108071096748, 'area_type'),\n",
       " ('x22_Above Average', 0.12351536919649578, 'intelligence_self_rating'),\n",
       " ('x19_Never', 0.1355793502505848, 'relig_attd'),\n",
       " ('x7_6-9X', 0.14221516686474875, 'alcohol_yr_freq'),\n",
       " ('x5_1 Pack', 0.1469015256722513, 'cig_month_freq'),\n",
       " ('x20_Not Important', 0.1507205592556796, 'relig_importance'),\n",
       " ('x8_6-9X', 0.15444862121441363, 'alcohol_2weeks'),\n",
       " ('x10_Suburb of Medium City', 0.15896503210594734, 'area_type'),\n",
       " ('x8_3-5X', 0.1663093962060953, 'alcohol_2weeks'),\n",
       " ('x6_10-19X', 0.1675458128184387, 'alcohol_lifetime_freq'),\n",
       " ('x10_Medium City', 0.16803173847278405, 'area_type'),\n",
       " ('x42_4-5', 0.16918756580194907, 'rec_time'),\n",
       " ('x46_3', 0.17343212990076878, '12mo_accidents'),\n",
       " ('x46_4+', 0.1735114115652519, '12mo_accidents'),\n",
       " ('x26_21+', 0.17641393368610367, 'skipped_class'),\n",
       " ('x27_C', 0.17799007779694542, 'avg_grade'),\n",
       " ('x42_6-7', 0.1841439331143769, 'rec_time'),\n",
       " ('x5_2+ Packs', 0.20131540120454422, 'cig_month_freq'),\n",
       " ('x4_Occasionally', 0.20777076249561427, 'evr_smoked_cig'),\n",
       " ('x27_C-', 0.21510019376956294, 'avg_grade'),\n",
       " ('x0_2010', 0.24589110947578946, 'yr_adminst'),\n",
       " ('x24_11+', 0.26276844144769024, 'school_missed_ditched'),\n",
       " ('x22_Far Above Average', 0.2817525244944278, 'intelligence_self_rating'),\n",
       " ('x6_20-39X', 0.31972122674337605, 'alcohol_lifetime_freq'),\n",
       " ('x7_10-19X', 0.3317013727128379, 'alcohol_yr_freq'),\n",
       " ('x18_Radical', 0.3380945136715312, 'political_value_type'),\n",
       " ('x18_Very Liberal', 0.357328756015146, 'political_value_type'),\n",
       " ('x4_Regularly in Past', 0.3631583263525524, 'evr_smoked_cig'),\n",
       " ('x0_2011', 0.3800380034474571, 'yr_adminst'),\n",
       " ('x0_2012', 0.38266356167486937, 'yr_adminst'),\n",
       " ('x6_40+', 0.3930442656280201, 'alcohol_lifetime_freq'),\n",
       " ('x27_D', 0.4100584518483733, 'avg_grade'),\n",
       " ('x7_20-39X', 0.5036351338947056, 'alcohol_yr_freq'),\n",
       " ('x4_Regularly Now', 0.5827283216776209, 'evr_smoked_cig'),\n",
       " ('x0_2014', 0.6550510128297548, 'yr_adminst'),\n",
       " ('x7_40+', 0.655494469839989, 'alcohol_yr_freq'),\n",
       " ('x0_2015', 0.7145695435550995, 'yr_adminst'),\n",
       " ('x0_2019', 1.1218055902357884, 'yr_adminst')]"
      ]
     },
     "execution_count": 100,
     "metadata": {},
     "output_type": "execute_result"
    }
   ],
   "source": [
    "features = list(zip(X_tr_pp.columns, final.coef_[0], label_features()))\n",
    "sorted(features, key=lambda x: x[1])"
   ]
  },
  {
   "cell_type": "markdown",
   "metadata": {},
   "source": [
    "## Conclusions\n",
    "\n",
    "### Next Steps\n",
    "* Further subsetting of the dataset and experimentation with XGBoost hyperparameter tuning.\n",
    "* Implementing Recursive Feature Elimination.\n",
    "* Using a Neural Network.\n",
    "\n",
    "### Sources"
   ]
  }
 ],
 "metadata": {
  "kernelspec": {
   "display_name": "Python 3",
   "language": "python",
   "name": "python3"
  },
  "language_info": {
   "codemirror_mode": {
    "name": "ipython",
    "version": 3
   },
   "file_extension": ".py",
   "mimetype": "text/x-python",
   "name": "python",
   "nbconvert_exporter": "python",
   "pygments_lexer": "ipython3",
   "version": "3.8.5"
  }
 },
 "nbformat": 4,
 "nbformat_minor": 4
}
